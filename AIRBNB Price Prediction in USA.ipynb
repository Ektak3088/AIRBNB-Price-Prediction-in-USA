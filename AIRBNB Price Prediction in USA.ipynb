{
 "cells": [
  {
   "cell_type": "markdown",
   "metadata": {},
   "source": [
    "# PREDICTION"
   ]
  },
  {
   "cell_type": "markdown",
   "metadata": {},
   "source": [
    "## AIRBNB Price Prediction in USA"
   ]
  },
  {
   "cell_type": "markdown",
   "metadata": {},
   "source": [
    "In this project we take data of Airbnb listings in the USA and try to predict the price of stay in that listing.\n",
    "\n",
    "The data includes 43167 listings and 29 columns - including log_price, what we are trying to predict."
   ]
  },
  {
   "cell_type": "code",
   "execution_count": 220,
   "metadata": {},
   "outputs": [],
   "source": [
    "import numpy as np\n",
    "import pandas as pd\n",
    "import seaborn as sns\n",
    "from sklearn.model_selection import train_test_split,cross_val_score\n",
    "from sklearn import preprocessing\n",
    "from sklearn.preprocessing import MinMaxScaler\n",
    "from sklearn.preprocessing import StandardScaler\n",
    "from sklearn import preprocessing\n",
    "import matplotlib.pyplot as plt\n",
    "%matplotlib inline\n",
    "from sklearn.model_selection import GridSearchCV\n",
    "from sklearn.metrics import mean_squared_error\n",
    "from sklearn.metrics import r2_score\n",
    "from sklearn.svm import LinearSVR\n",
    "from sklearn.svm import SVR\n",
    "import warnings\n",
    "warnings.filterwarnings('ignore')"
   ]
  },
  {
   "cell_type": "code",
   "execution_count": 221,
   "metadata": {},
   "outputs": [],
   "source": [
    "data = pd.read_csv('Airbnb_Dataset1.csv')"
   ]
  },
  {
   "cell_type": "code",
   "execution_count": 222,
   "metadata": {},
   "outputs": [
    {
     "name": "stdout",
     "output_type": "stream",
     "text": [
      "<class 'pandas.core.frame.DataFrame'>\n",
      "RangeIndex: 43167 entries, 0 to 43166\n",
      "Data columns (total 29 columns):\n",
      " #   Column                  Non-Null Count  Dtype  \n",
      "---  ------                  --------------  -----  \n",
      " 0   id                      43167 non-null  int64  \n",
      " 1   log_price               43167 non-null  float64\n",
      " 2   property_type           43167 non-null  object \n",
      " 3   room_type               43167 non-null  object \n",
      " 4   amenities               43167 non-null  object \n",
      " 5   accommodates            43167 non-null  int64  \n",
      " 6   bathrooms               43059 non-null  float64\n",
      " 7   bed_type                43167 non-null  object \n",
      " 8   cancellation_policy     43167 non-null  object \n",
      " 9   cleaning_fee            43167 non-null  bool   \n",
      " 10  city                    43167 non-null  object \n",
      " 11  description             43167 non-null  object \n",
      " 12  first_review            34358 non-null  object \n",
      " 13  host_has_profile_pic    43054 non-null  object \n",
      " 14  host_identity_verified  43054 non-null  object \n",
      " 15  host_response_rate      33007 non-null  object \n",
      " 16  host_since              43054 non-null  object \n",
      " 17  instant_bookable        43167 non-null  object \n",
      " 18  last_review             34381 non-null  object \n",
      " 19  latitude                43167 non-null  float64\n",
      " 20  longitude               43167 non-null  float64\n",
      " 21  name                    43167 non-null  object \n",
      " 22  neighbourhood           39184 non-null  object \n",
      " 23  number_of_reviews       43167 non-null  int64  \n",
      " 24  review_scores_rating    33878 non-null  float64\n",
      " 25  thumbnail_url           38399 non-null  object \n",
      " 26  zipcode                 42618 non-null  object \n",
      " 27  bedrooms                43120 non-null  float64\n",
      " 28  beds                    43098 non-null  float64\n",
      "dtypes: bool(1), float64(7), int64(3), object(18)\n",
      "memory usage: 9.3+ MB\n"
     ]
    }
   ],
   "source": [
    "data.info()"
   ]
  },
  {
   "cell_type": "code",
   "execution_count": 223,
   "metadata": {},
   "outputs": [
    {
     "data": {
      "text/html": [
       "<div>\n",
       "<style scoped>\n",
       "    .dataframe tbody tr th:only-of-type {\n",
       "        vertical-align: middle;\n",
       "    }\n",
       "\n",
       "    .dataframe tbody tr th {\n",
       "        vertical-align: top;\n",
       "    }\n",
       "\n",
       "    .dataframe thead th {\n",
       "        text-align: right;\n",
       "    }\n",
       "</style>\n",
       "<table border=\"1\" class=\"dataframe\">\n",
       "  <thead>\n",
       "    <tr style=\"text-align: right;\">\n",
       "      <th></th>\n",
       "      <th>id</th>\n",
       "      <th>log_price</th>\n",
       "      <th>property_type</th>\n",
       "      <th>room_type</th>\n",
       "      <th>amenities</th>\n",
       "      <th>accommodates</th>\n",
       "      <th>bathrooms</th>\n",
       "      <th>bed_type</th>\n",
       "      <th>cancellation_policy</th>\n",
       "      <th>cleaning_fee</th>\n",
       "      <th>...</th>\n",
       "      <th>latitude</th>\n",
       "      <th>longitude</th>\n",
       "      <th>name</th>\n",
       "      <th>neighbourhood</th>\n",
       "      <th>number_of_reviews</th>\n",
       "      <th>review_scores_rating</th>\n",
       "      <th>thumbnail_url</th>\n",
       "      <th>zipcode</th>\n",
       "      <th>bedrooms</th>\n",
       "      <th>beds</th>\n",
       "    </tr>\n",
       "  </thead>\n",
       "  <tbody>\n",
       "    <tr>\n",
       "      <th>0</th>\n",
       "      <td>6901257</td>\n",
       "      <td>5.010635</td>\n",
       "      <td>Apartment</td>\n",
       "      <td>Entire home/apt</td>\n",
       "      <td>{\"Wireless Internet\",\"Air conditioning\",Kitche...</td>\n",
       "      <td>3</td>\n",
       "      <td>1.0</td>\n",
       "      <td>Real Bed</td>\n",
       "      <td>strict</td>\n",
       "      <td>True</td>\n",
       "      <td>...</td>\n",
       "      <td>40.696524</td>\n",
       "      <td>-73.991617</td>\n",
       "      <td>Beautiful brownstone 1-bedroom</td>\n",
       "      <td>Brooklyn Heights</td>\n",
       "      <td>2</td>\n",
       "      <td>100.0</td>\n",
       "      <td>https://a0.muscache.com/im/pictures/6d7cbbf7-c...</td>\n",
       "      <td>11201</td>\n",
       "      <td>1.0</td>\n",
       "      <td>1.0</td>\n",
       "    </tr>\n",
       "    <tr>\n",
       "      <th>1</th>\n",
       "      <td>6304928</td>\n",
       "      <td>5.129899</td>\n",
       "      <td>Apartment</td>\n",
       "      <td>Entire home/apt</td>\n",
       "      <td>{\"Wireless Internet\",\"Air conditioning\",Kitche...</td>\n",
       "      <td>7</td>\n",
       "      <td>1.0</td>\n",
       "      <td>Real Bed</td>\n",
       "      <td>strict</td>\n",
       "      <td>True</td>\n",
       "      <td>...</td>\n",
       "      <td>40.766115</td>\n",
       "      <td>-73.989040</td>\n",
       "      <td>Superb 3BR Apt Located Near Times Square</td>\n",
       "      <td>Hell's Kitchen</td>\n",
       "      <td>6</td>\n",
       "      <td>93.0</td>\n",
       "      <td>https://a0.muscache.com/im/pictures/348a55fe-4...</td>\n",
       "      <td>10019</td>\n",
       "      <td>3.0</td>\n",
       "      <td>3.0</td>\n",
       "    </tr>\n",
       "    <tr>\n",
       "      <th>2</th>\n",
       "      <td>7919400</td>\n",
       "      <td>4.976734</td>\n",
       "      <td>Apartment</td>\n",
       "      <td>Entire home/apt</td>\n",
       "      <td>{TV,\"Cable TV\",\"Wireless Internet\",\"Air condit...</td>\n",
       "      <td>5</td>\n",
       "      <td>1.0</td>\n",
       "      <td>Real Bed</td>\n",
       "      <td>moderate</td>\n",
       "      <td>True</td>\n",
       "      <td>...</td>\n",
       "      <td>40.808110</td>\n",
       "      <td>-73.943756</td>\n",
       "      <td>The Garden Oasis</td>\n",
       "      <td>Harlem</td>\n",
       "      <td>10</td>\n",
       "      <td>92.0</td>\n",
       "      <td>https://a0.muscache.com/im/pictures/6fae5362-9...</td>\n",
       "      <td>10027</td>\n",
       "      <td>1.0</td>\n",
       "      <td>3.0</td>\n",
       "    </tr>\n",
       "    <tr>\n",
       "      <th>3</th>\n",
       "      <td>13418779</td>\n",
       "      <td>6.620073</td>\n",
       "      <td>House</td>\n",
       "      <td>Entire home/apt</td>\n",
       "      <td>{TV,\"Cable TV\",Internet,\"Wireless Internet\",Ki...</td>\n",
       "      <td>4</td>\n",
       "      <td>1.0</td>\n",
       "      <td>Real Bed</td>\n",
       "      <td>flexible</td>\n",
       "      <td>True</td>\n",
       "      <td>...</td>\n",
       "      <td>37.772004</td>\n",
       "      <td>-122.431619</td>\n",
       "      <td>Beautiful Flat in the Heart of SF!</td>\n",
       "      <td>Lower Haight</td>\n",
       "      <td>0</td>\n",
       "      <td>NaN</td>\n",
       "      <td>https://a0.muscache.com/im/pictures/72208dad-9...</td>\n",
       "      <td>94117</td>\n",
       "      <td>2.0</td>\n",
       "      <td>2.0</td>\n",
       "    </tr>\n",
       "    <tr>\n",
       "      <th>4</th>\n",
       "      <td>3808709</td>\n",
       "      <td>4.744932</td>\n",
       "      <td>Apartment</td>\n",
       "      <td>Entire home/apt</td>\n",
       "      <td>{TV,Internet,\"Wireless Internet\",\"Air conditio...</td>\n",
       "      <td>2</td>\n",
       "      <td>1.0</td>\n",
       "      <td>Real Bed</td>\n",
       "      <td>moderate</td>\n",
       "      <td>True</td>\n",
       "      <td>...</td>\n",
       "      <td>38.925627</td>\n",
       "      <td>-77.034596</td>\n",
       "      <td>Great studio in midtown DC</td>\n",
       "      <td>Columbia Heights</td>\n",
       "      <td>4</td>\n",
       "      <td>40.0</td>\n",
       "      <td>NaN</td>\n",
       "      <td>20009</td>\n",
       "      <td>0.0</td>\n",
       "      <td>1.0</td>\n",
       "    </tr>\n",
       "  </tbody>\n",
       "</table>\n",
       "<p>5 rows × 29 columns</p>\n",
       "</div>"
      ],
      "text/plain": [
       "         id  log_price property_type        room_type  \\\n",
       "0   6901257   5.010635     Apartment  Entire home/apt   \n",
       "1   6304928   5.129899     Apartment  Entire home/apt   \n",
       "2   7919400   4.976734     Apartment  Entire home/apt   \n",
       "3  13418779   6.620073         House  Entire home/apt   \n",
       "4   3808709   4.744932     Apartment  Entire home/apt   \n",
       "\n",
       "                                           amenities  accommodates  bathrooms  \\\n",
       "0  {\"Wireless Internet\",\"Air conditioning\",Kitche...             3        1.0   \n",
       "1  {\"Wireless Internet\",\"Air conditioning\",Kitche...             7        1.0   \n",
       "2  {TV,\"Cable TV\",\"Wireless Internet\",\"Air condit...             5        1.0   \n",
       "3  {TV,\"Cable TV\",Internet,\"Wireless Internet\",Ki...             4        1.0   \n",
       "4  {TV,Internet,\"Wireless Internet\",\"Air conditio...             2        1.0   \n",
       "\n",
       "   bed_type cancellation_policy  cleaning_fee  ...   latitude   longitude  \\\n",
       "0  Real Bed              strict          True  ...  40.696524  -73.991617   \n",
       "1  Real Bed              strict          True  ...  40.766115  -73.989040   \n",
       "2  Real Bed            moderate          True  ...  40.808110  -73.943756   \n",
       "3  Real Bed            flexible          True  ...  37.772004 -122.431619   \n",
       "4  Real Bed            moderate          True  ...  38.925627  -77.034596   \n",
       "\n",
       "                                       name     neighbourhood  \\\n",
       "0            Beautiful brownstone 1-bedroom  Brooklyn Heights   \n",
       "1  Superb 3BR Apt Located Near Times Square    Hell's Kitchen   \n",
       "2                          The Garden Oasis            Harlem   \n",
       "3        Beautiful Flat in the Heart of SF!      Lower Haight   \n",
       "4                Great studio in midtown DC  Columbia Heights   \n",
       "\n",
       "  number_of_reviews review_scores_rating  \\\n",
       "0                 2                100.0   \n",
       "1                 6                 93.0   \n",
       "2                10                 92.0   \n",
       "3                 0                  NaN   \n",
       "4                 4                 40.0   \n",
       "\n",
       "                                       thumbnail_url zipcode bedrooms  beds  \n",
       "0  https://a0.muscache.com/im/pictures/6d7cbbf7-c...   11201      1.0   1.0  \n",
       "1  https://a0.muscache.com/im/pictures/348a55fe-4...   10019      3.0   3.0  \n",
       "2  https://a0.muscache.com/im/pictures/6fae5362-9...   10027      1.0   3.0  \n",
       "3  https://a0.muscache.com/im/pictures/72208dad-9...   94117      2.0   2.0  \n",
       "4                                                NaN   20009      0.0   1.0  \n",
       "\n",
       "[5 rows x 29 columns]"
      ]
     },
     "execution_count": 223,
     "metadata": {},
     "output_type": "execute_result"
    }
   ],
   "source": [
    "data.head()"
   ]
  },
  {
   "cell_type": "code",
   "execution_count": 224,
   "metadata": {},
   "outputs": [
    {
     "data": {
      "text/plain": [
       "(43167, 29)"
      ]
     },
     "execution_count": 224,
     "metadata": {},
     "output_type": "execute_result"
    }
   ],
   "source": [
    "data.shape"
   ]
  },
  {
   "cell_type": "markdown",
   "metadata": {},
   "source": [
    "## Data Visualization"
   ]
  },
  {
   "cell_type": "markdown",
   "metadata": {},
   "source": [
    "### Heatmap"
   ]
  },
  {
   "cell_type": "code",
   "execution_count": 225,
   "metadata": {},
   "outputs": [
    {
     "data": {
      "text/plain": [
       "<matplotlib.axes._subplots.AxesSubplot at 0x249822f0a88>"
      ]
     },
     "execution_count": 225,
     "metadata": {},
     "output_type": "execute_result"
    },
    {
     "data": {
      "image/png": "[encoded data removed]",
      "text/plain": [
       "<Figure size 2160x1440 with 2 Axes>"
      ]
     },
     "metadata": {
      "needs_background": "light"
     },
     "output_type": "display_data"
    }
   ],
   "source": [
    "plt.figure(figsize=(30,20)) \n",
    "sns.heatmap(data.corr(), annot=True, cmap=\"YlGnBu\")"
   ]
  },
  {
   "cell_type": "markdown",
   "metadata": {},
   "source": [
    "### Histogram of various features present in the dataframe"
   ]
  },
  {
   "cell_type": "code",
   "execution_count": 226,
   "metadata": {},
   "outputs": [
    {
     "data": {
      "text/plain": [
       "array([[<matplotlib.axes._subplots.AxesSubplot object at 0x00000249EC120D48>,\n",
       "        <matplotlib.axes._subplots.AxesSubplot object at 0x00000249E900A748>],\n",
       "       [<matplotlib.axes._subplots.AxesSubplot object at 0x00000249E908B788>,\n",
       "        <matplotlib.axes._subplots.AxesSubplot object at 0x00000249E9132888>]],\n",
       "      dtype=object)"
      ]
     },
     "execution_count": 226,
     "metadata": {},
     "output_type": "execute_result"
    },
    {
     "data": {
      "image/png": "[encoded data removed]",
      "text/plain": [
       "<Figure size 1080x1080 with 9 Axes>"
      ]
     },
     "metadata": {
      "needs_background": "light"
     },
     "output_type": "display_data"
    },
    {
     "data": {
      "image/png": "[encoded data removed]",
      "text/plain": [
       "<Figure size 1080x1080 with 4 Axes>"
      ]
     },
     "metadata": {
      "needs_background": "light"
     },
     "output_type": "display_data"
    }
   ],
   "source": [
    "data[data.dtypes[(data.dtypes==\"float\")].index.values].hist(figsize=[15,15])\n",
    "data[data.dtypes[(data.dtypes==\"int64\")].index.values].hist(figsize=[15,15])"
   ]
  },
  {
   "cell_type": "code",
   "execution_count": 227,
   "metadata": {},
   "outputs": [],
   "source": [
    "data=data.drop(['id', 'amenities', 'description', 'first_review', 'host_has_profile_pic', 'host_identity_verified', 'host_response_rate', 'host_since', 'last_review', 'latitude', 'longitude', 'name', 'neighbourhood','thumbnail_url', 'zipcode'],axis=1)"
   ]
  },
  {
   "cell_type": "code",
   "execution_count": 228,
   "metadata": {},
   "outputs": [
    {
     "name": "stdout",
     "output_type": "stream",
     "text": [
      "<class 'pandas.core.frame.DataFrame'>\n",
      "RangeIndex: 43167 entries, 0 to 43166\n",
      "Data columns (total 14 columns):\n",
      " #   Column                Non-Null Count  Dtype  \n",
      "---  ------                --------------  -----  \n",
      " 0   log_price             43167 non-null  float64\n",
      " 1   property_type         43167 non-null  object \n",
      " 2   room_type             43167 non-null  object \n",
      " 3   accommodates          43167 non-null  int64  \n",
      " 4   bathrooms             43059 non-null  float64\n",
      " 5   bed_type              43167 non-null  object \n",
      " 6   cancellation_policy   43167 non-null  object \n",
      " 7   cleaning_fee          43167 non-null  bool   \n",
      " 8   city                  43167 non-null  object \n",
      " 9   instant_bookable      43167 non-null  object \n",
      " 10  number_of_reviews     43167 non-null  int64  \n",
      " 11  review_scores_rating  33878 non-null  float64\n",
      " 12  bedrooms              43120 non-null  float64\n",
      " 13  beds                  43098 non-null  float64\n",
      "dtypes: bool(1), float64(5), int64(2), object(6)\n",
      "memory usage: 4.3+ MB\n"
     ]
    }
   ],
   "source": [
    "data.info()"
   ]
  },
  {
   "cell_type": "code",
   "execution_count": 229,
   "metadata": {},
   "outputs": [
    {
     "data": {
      "text/plain": [
       "log_price                  0\n",
       "property_type              0\n",
       "room_type                  0\n",
       "accommodates               0\n",
       "bathrooms                108\n",
       "bed_type                   0\n",
       "cancellation_policy        0\n",
       "cleaning_fee               0\n",
       "city                       0\n",
       "instant_bookable           0\n",
       "number_of_reviews          0\n",
       "review_scores_rating    9289\n",
       "bedrooms                  47\n",
       "beds                      69\n",
       "dtype: int64"
      ]
     },
     "execution_count": 229,
     "metadata": {},
     "output_type": "execute_result"
    }
   ],
   "source": [
    "# Looking for NaN\n",
    "data.isnull().sum()"
   ]
  },
  {
   "cell_type": "markdown",
   "metadata": {},
   "source": [
    "## Missing Data Imputation"
   ]
  },
  {
   "cell_type": "code",
   "execution_count": 230,
   "metadata": {},
   "outputs": [
    {
     "data": {
      "text/plain": [
       "0    1.0\n",
       "dtype: float64"
      ]
     },
     "execution_count": 230,
     "metadata": {},
     "output_type": "execute_result"
    }
   ],
   "source": [
    "data['bathrooms'].mode()"
   ]
  },
  {
   "cell_type": "code",
   "execution_count": 231,
   "metadata": {},
   "outputs": [
    {
     "data": {
      "text/plain": [
       "0    1.0\n",
       "dtype: float64"
      ]
     },
     "execution_count": 231,
     "metadata": {},
     "output_type": "execute_result"
    }
   ],
   "source": [
    "data['bedrooms'].mode()"
   ]
  },
  {
   "cell_type": "code",
   "execution_count": 232,
   "metadata": {},
   "outputs": [
    {
     "data": {
      "text/plain": [
       "0    1.0\n",
       "dtype: float64"
      ]
     },
     "execution_count": 232,
     "metadata": {},
     "output_type": "execute_result"
    }
   ],
   "source": [
    "data['beds'].mode()"
   ]
  },
  {
   "cell_type": "code",
   "execution_count": 233,
   "metadata": {},
   "outputs": [],
   "source": [
    "#imputing values with mean, median and mode\n",
    "#mode is 1.0\n",
    "data['bathrooms'].fillna(data['bathrooms'].mode()[0],inplace=True)\n",
    "#mode is 1 bedroom\n",
    "data['bedrooms'].fillna(data['bedrooms'].mode()[0],inplace=True)\n",
    "#mode is 1 bed\n",
    "data['beds'].fillna(data['beds'].mode()[0],inplace=True)\n",
    "data['review_scores_rating'].fillna(data['review_scores_rating'].mean(),inplace=True)"
   ]
  },
  {
   "cell_type": "code",
   "execution_count": 234,
   "metadata": {},
   "outputs": [
    {
     "name": "stdout",
     "output_type": "stream",
     "text": [
      "<class 'pandas.core.frame.DataFrame'>\n",
      "RangeIndex: 43167 entries, 0 to 43166\n",
      "Data columns (total 14 columns):\n",
      " #   Column                Non-Null Count  Dtype  \n",
      "---  ------                --------------  -----  \n",
      " 0   log_price             43167 non-null  float64\n",
      " 1   property_type         43167 non-null  object \n",
      " 2   room_type             43167 non-null  object \n",
      " 3   accommodates          43167 non-null  int64  \n",
      " 4   bathrooms             43167 non-null  float64\n",
      " 5   bed_type              43167 non-null  object \n",
      " 6   cancellation_policy   43167 non-null  object \n",
      " 7   cleaning_fee          43167 non-null  bool   \n",
      " 8   city                  43167 non-null  object \n",
      " 9   instant_bookable      43167 non-null  object \n",
      " 10  number_of_reviews     43167 non-null  int64  \n",
      " 11  review_scores_rating  43167 non-null  float64\n",
      " 12  bedrooms              43167 non-null  float64\n",
      " 13  beds                  43167 non-null  float64\n",
      "dtypes: bool(1), float64(5), int64(2), object(6)\n",
      "memory usage: 4.3+ MB\n"
     ]
    }
   ],
   "source": [
    "data.info()"
   ]
  },
  {
   "cell_type": "code",
   "execution_count": 235,
   "metadata": {},
   "outputs": [
    {
     "data": {
      "text/html": [
       "<div>\n",
       "<style scoped>\n",
       "    .dataframe tbody tr th:only-of-type {\n",
       "        vertical-align: middle;\n",
       "    }\n",
       "\n",
       "    .dataframe tbody tr th {\n",
       "        vertical-align: top;\n",
       "    }\n",
       "\n",
       "    .dataframe thead th {\n",
       "        text-align: right;\n",
       "    }\n",
       "</style>\n",
       "<table border=\"1\" class=\"dataframe\">\n",
       "  <thead>\n",
       "    <tr style=\"text-align: right;\">\n",
       "      <th></th>\n",
       "      <th>log_price</th>\n",
       "      <th>accommodates</th>\n",
       "      <th>bathrooms</th>\n",
       "      <th>number_of_reviews</th>\n",
       "      <th>review_scores_rating</th>\n",
       "      <th>bedrooms</th>\n",
       "      <th>beds</th>\n",
       "    </tr>\n",
       "  </thead>\n",
       "  <tbody>\n",
       "    <tr>\n",
       "      <th>count</th>\n",
       "      <td>43167.000000</td>\n",
       "      <td>43167.000000</td>\n",
       "      <td>43167.000000</td>\n",
       "      <td>43167.000000</td>\n",
       "      <td>43167.000000</td>\n",
       "      <td>43167.000000</td>\n",
       "      <td>43167.000000</td>\n",
       "    </tr>\n",
       "    <tr>\n",
       "      <th>mean</th>\n",
       "      <td>4.768036</td>\n",
       "      <td>3.163227</td>\n",
       "      <td>1.240994</td>\n",
       "      <td>21.383928</td>\n",
       "      <td>94.056054</td>\n",
       "      <td>1.272176</td>\n",
       "      <td>1.724743</td>\n",
       "    </tr>\n",
       "    <tr>\n",
       "      <th>std</th>\n",
       "      <td>0.722506</td>\n",
       "      <td>2.180998</td>\n",
       "      <td>0.594729</td>\n",
       "      <td>38.189374</td>\n",
       "      <td>6.875271</td>\n",
       "      <td>0.858242</td>\n",
       "      <td>1.292788</td>\n",
       "    </tr>\n",
       "    <tr>\n",
       "      <th>min</th>\n",
       "      <td>0.000000</td>\n",
       "      <td>1.000000</td>\n",
       "      <td>0.000000</td>\n",
       "      <td>0.000000</td>\n",
       "      <td>20.000000</td>\n",
       "      <td>0.000000</td>\n",
       "      <td>0.000000</td>\n",
       "    </tr>\n",
       "    <tr>\n",
       "      <th>25%</th>\n",
       "      <td>4.248495</td>\n",
       "      <td>2.000000</td>\n",
       "      <td>1.000000</td>\n",
       "      <td>1.000000</td>\n",
       "      <td>93.000000</td>\n",
       "      <td>1.000000</td>\n",
       "      <td>1.000000</td>\n",
       "    </tr>\n",
       "    <tr>\n",
       "      <th>50%</th>\n",
       "      <td>4.700480</td>\n",
       "      <td>2.000000</td>\n",
       "      <td>1.000000</td>\n",
       "      <td>6.000000</td>\n",
       "      <td>94.056054</td>\n",
       "      <td>1.000000</td>\n",
       "      <td>1.000000</td>\n",
       "    </tr>\n",
       "    <tr>\n",
       "      <th>75%</th>\n",
       "      <td>5.192957</td>\n",
       "      <td>4.000000</td>\n",
       "      <td>1.000000</td>\n",
       "      <td>24.000000</td>\n",
       "      <td>99.000000</td>\n",
       "      <td>1.000000</td>\n",
       "      <td>2.000000</td>\n",
       "    </tr>\n",
       "    <tr>\n",
       "      <th>max</th>\n",
       "      <td>7.600402</td>\n",
       "      <td>16.000000</td>\n",
       "      <td>8.000000</td>\n",
       "      <td>542.000000</td>\n",
       "      <td>100.000000</td>\n",
       "      <td>10.000000</td>\n",
       "      <td>18.000000</td>\n",
       "    </tr>\n",
       "  </tbody>\n",
       "</table>\n",
       "</div>"
      ],
      "text/plain": [
       "          log_price  accommodates     bathrooms  number_of_reviews  \\\n",
       "count  43167.000000  43167.000000  43167.000000       43167.000000   \n",
       "mean       4.768036      3.163227      1.240994          21.383928   \n",
       "std        0.722506      2.180998      0.594729          38.189374   \n",
       "min        0.000000      1.000000      0.000000           0.000000   \n",
       "25%        4.248495      2.000000      1.000000           1.000000   \n",
       "50%        4.700480      2.000000      1.000000           6.000000   \n",
       "75%        5.192957      4.000000      1.000000          24.000000   \n",
       "max        7.600402     16.000000      8.000000         542.000000   \n",
       "\n",
       "       review_scores_rating      bedrooms          beds  \n",
       "count          43167.000000  43167.000000  43167.000000  \n",
       "mean              94.056054      1.272176      1.724743  \n",
       "std                6.875271      0.858242      1.292788  \n",
       "min               20.000000      0.000000      0.000000  \n",
       "25%               93.000000      1.000000      1.000000  \n",
       "50%               94.056054      1.000000      1.000000  \n",
       "75%               99.000000      1.000000      2.000000  \n",
       "max              100.000000     10.000000     18.000000  "
      ]
     },
     "execution_count": 235,
     "metadata": {},
     "output_type": "execute_result"
    }
   ],
   "source": [
    "data.describe()"
   ]
  },
  {
   "cell_type": "code",
   "execution_count": 236,
   "metadata": {},
   "outputs": [
    {
     "data": {
      "text/html": [
       "<div>\n",
       "<style scoped>\n",
       "    .dataframe tbody tr th:only-of-type {\n",
       "        vertical-align: middle;\n",
       "    }\n",
       "\n",
       "    .dataframe tbody tr th {\n",
       "        vertical-align: top;\n",
       "    }\n",
       "\n",
       "    .dataframe thead th {\n",
       "        text-align: right;\n",
       "    }\n",
       "</style>\n",
       "<table border=\"1\" class=\"dataframe\">\n",
       "  <thead>\n",
       "    <tr style=\"text-align: right;\">\n",
       "      <th></th>\n",
       "      <th>log_price</th>\n",
       "      <th>property_type</th>\n",
       "      <th>room_type</th>\n",
       "      <th>accommodates</th>\n",
       "      <th>bathrooms</th>\n",
       "      <th>bed_type</th>\n",
       "      <th>cancellation_policy</th>\n",
       "      <th>cleaning_fee</th>\n",
       "      <th>city</th>\n",
       "      <th>instant_bookable</th>\n",
       "      <th>number_of_reviews</th>\n",
       "      <th>review_scores_rating</th>\n",
       "      <th>bedrooms</th>\n",
       "      <th>beds</th>\n",
       "    </tr>\n",
       "  </thead>\n",
       "  <tbody>\n",
       "    <tr>\n",
       "      <th>0</th>\n",
       "      <td>5.010635</td>\n",
       "      <td>Apartment</td>\n",
       "      <td>Entire home/apt</td>\n",
       "      <td>3</td>\n",
       "      <td>1.0</td>\n",
       "      <td>Real Bed</td>\n",
       "      <td>strict</td>\n",
       "      <td>True</td>\n",
       "      <td>NYC</td>\n",
       "      <td>f</td>\n",
       "      <td>2</td>\n",
       "      <td>100.000000</td>\n",
       "      <td>1.0</td>\n",
       "      <td>1.0</td>\n",
       "    </tr>\n",
       "    <tr>\n",
       "      <th>1</th>\n",
       "      <td>5.129899</td>\n",
       "      <td>Apartment</td>\n",
       "      <td>Entire home/apt</td>\n",
       "      <td>7</td>\n",
       "      <td>1.0</td>\n",
       "      <td>Real Bed</td>\n",
       "      <td>strict</td>\n",
       "      <td>True</td>\n",
       "      <td>NYC</td>\n",
       "      <td>t</td>\n",
       "      <td>6</td>\n",
       "      <td>93.000000</td>\n",
       "      <td>3.0</td>\n",
       "      <td>3.0</td>\n",
       "    </tr>\n",
       "    <tr>\n",
       "      <th>2</th>\n",
       "      <td>4.976734</td>\n",
       "      <td>Apartment</td>\n",
       "      <td>Entire home/apt</td>\n",
       "      <td>5</td>\n",
       "      <td>1.0</td>\n",
       "      <td>Real Bed</td>\n",
       "      <td>moderate</td>\n",
       "      <td>True</td>\n",
       "      <td>NYC</td>\n",
       "      <td>t</td>\n",
       "      <td>10</td>\n",
       "      <td>92.000000</td>\n",
       "      <td>1.0</td>\n",
       "      <td>3.0</td>\n",
       "    </tr>\n",
       "    <tr>\n",
       "      <th>3</th>\n",
       "      <td>6.620073</td>\n",
       "      <td>House</td>\n",
       "      <td>Entire home/apt</td>\n",
       "      <td>4</td>\n",
       "      <td>1.0</td>\n",
       "      <td>Real Bed</td>\n",
       "      <td>flexible</td>\n",
       "      <td>True</td>\n",
       "      <td>SF</td>\n",
       "      <td>f</td>\n",
       "      <td>0</td>\n",
       "      <td>94.056054</td>\n",
       "      <td>2.0</td>\n",
       "      <td>2.0</td>\n",
       "    </tr>\n",
       "    <tr>\n",
       "      <th>4</th>\n",
       "      <td>4.744932</td>\n",
       "      <td>Apartment</td>\n",
       "      <td>Entire home/apt</td>\n",
       "      <td>2</td>\n",
       "      <td>1.0</td>\n",
       "      <td>Real Bed</td>\n",
       "      <td>moderate</td>\n",
       "      <td>True</td>\n",
       "      <td>DC</td>\n",
       "      <td>t</td>\n",
       "      <td>4</td>\n",
       "      <td>40.000000</td>\n",
       "      <td>0.0</td>\n",
       "      <td>1.0</td>\n",
       "    </tr>\n",
       "  </tbody>\n",
       "</table>\n",
       "</div>"
      ],
      "text/plain": [
       "   log_price property_type        room_type  accommodates  bathrooms  \\\n",
       "0   5.010635     Apartment  Entire home/apt             3        1.0   \n",
       "1   5.129899     Apartment  Entire home/apt             7        1.0   \n",
       "2   4.976734     Apartment  Entire home/apt             5        1.0   \n",
       "3   6.620073         House  Entire home/apt             4        1.0   \n",
       "4   4.744932     Apartment  Entire home/apt             2        1.0   \n",
       "\n",
       "   bed_type cancellation_policy  cleaning_fee city instant_bookable  \\\n",
       "0  Real Bed              strict          True  NYC                f   \n",
       "1  Real Bed              strict          True  NYC                t   \n",
       "2  Real Bed            moderate          True  NYC                t   \n",
       "3  Real Bed            flexible          True   SF                f   \n",
       "4  Real Bed            moderate          True   DC                t   \n",
       "\n",
       "   number_of_reviews  review_scores_rating  bedrooms  beds  \n",
       "0                  2            100.000000       1.0   1.0  \n",
       "1                  6             93.000000       3.0   3.0  \n",
       "2                 10             92.000000       1.0   3.0  \n",
       "3                  0             94.056054       2.0   2.0  \n",
       "4                  4             40.000000       0.0   1.0  "
      ]
     },
     "execution_count": 236,
     "metadata": {},
     "output_type": "execute_result"
    }
   ],
   "source": [
    "data.head()"
   ]
  },
  {
   "cell_type": "code",
   "execution_count": 237,
   "metadata": {},
   "outputs": [
    {
     "data": {
      "text/html": [
       "<div>\n",
       "<style scoped>\n",
       "    .dataframe tbody tr th:only-of-type {\n",
       "        vertical-align: middle;\n",
       "    }\n",
       "\n",
       "    .dataframe tbody tr th {\n",
       "        vertical-align: top;\n",
       "    }\n",
       "\n",
       "    .dataframe thead th {\n",
       "        text-align: right;\n",
       "    }\n",
       "</style>\n",
       "<table border=\"1\" class=\"dataframe\">\n",
       "  <thead>\n",
       "    <tr style=\"text-align: right;\">\n",
       "      <th></th>\n",
       "      <th>property_type</th>\n",
       "      <th>room_type</th>\n",
       "      <th>bed_type</th>\n",
       "      <th>cancellation_policy</th>\n",
       "      <th>city</th>\n",
       "      <th>instant_bookable</th>\n",
       "    </tr>\n",
       "  </thead>\n",
       "  <tbody>\n",
       "    <tr>\n",
       "      <th>count</th>\n",
       "      <td>43167</td>\n",
       "      <td>43167</td>\n",
       "      <td>43167</td>\n",
       "      <td>43167</td>\n",
       "      <td>43167</td>\n",
       "      <td>43167</td>\n",
       "    </tr>\n",
       "    <tr>\n",
       "      <th>unique</th>\n",
       "      <td>33</td>\n",
       "      <td>3</td>\n",
       "      <td>5</td>\n",
       "      <td>5</td>\n",
       "      <td>6</td>\n",
       "      <td>2</td>\n",
       "    </tr>\n",
       "    <tr>\n",
       "      <th>top</th>\n",
       "      <td>Apartment</td>\n",
       "      <td>Entire home/apt</td>\n",
       "      <td>Real Bed</td>\n",
       "      <td>strict</td>\n",
       "      <td>NYC</td>\n",
       "      <td>f</td>\n",
       "    </tr>\n",
       "    <tr>\n",
       "      <th>freq</th>\n",
       "      <td>28405</td>\n",
       "      <td>23560</td>\n",
       "      <td>41886</td>\n",
       "      <td>20068</td>\n",
       "      <td>18826</td>\n",
       "      <td>31717</td>\n",
       "    </tr>\n",
       "  </tbody>\n",
       "</table>\n",
       "</div>"
      ],
      "text/plain": [
       "       property_type        room_type  bed_type cancellation_policy   city  \\\n",
       "count          43167            43167     43167               43167  43167   \n",
       "unique            33                3         5                   5      6   \n",
       "top        Apartment  Entire home/apt  Real Bed              strict    NYC   \n",
       "freq           28405            23560     41886               20068  18826   \n",
       "\n",
       "       instant_bookable  \n",
       "count             43167  \n",
       "unique                2  \n",
       "top                   f  \n",
       "freq              31717  "
      ]
     },
     "execution_count": 237,
     "metadata": {},
     "output_type": "execute_result"
    }
   ],
   "source": [
    "data.describe(include = 'O')"
   ]
  },
  {
   "cell_type": "code",
   "execution_count": 238,
   "metadata": {},
   "outputs": [
    {
     "data": {
      "text/plain": [
       "array(['Apartment', 'House', 'Condominium', 'Loft', 'Townhouse', 'Hostel',\n",
       "       'Dorm', 'Bed & Breakfast', 'Guesthouse', 'Bungalow', 'Other',\n",
       "       'Guest suite', 'In-law', 'Boat', 'Villa', 'Cabin', 'Treehouse',\n",
       "       'Timeshare', 'Camper/RV', 'Serviced apartment', 'Boutique hotel',\n",
       "       'Tipi', 'Vacation home', 'Tent', 'Casa particular', 'Earth House',\n",
       "       'Yurt', 'Train', 'Castle', 'Hut', 'Chalet', 'Cave', 'Island'],\n",
       "      dtype=object)"
      ]
     },
     "execution_count": 238,
     "metadata": {},
     "output_type": "execute_result"
    }
   ],
   "source": [
    "data['property_type'].unique()"
   ]
  },
  {
   "cell_type": "code",
   "execution_count": 239,
   "metadata": {},
   "outputs": [],
   "source": [
    "data['property_type'] = data['property_type'].astype('category').cat.codes"
   ]
  },
  {
   "cell_type": "code",
   "execution_count": 240,
   "metadata": {},
   "outputs": [],
   "source": [
    "data['instant_bookable'] = data['instant_bookable'].map({'f':0, 't':1})"
   ]
  },
  {
   "cell_type": "code",
   "execution_count": 241,
   "metadata": {},
   "outputs": [],
   "source": [
    "#categorical=['room_type','bed_type','cancellation_policy','city']\n",
    "data=pd.concat((data,pd.get_dummies(data['room_type'])),axis=1)\n",
    "data=pd.concat((data,pd.get_dummies(data['bed_type'])),axis=1)\n",
    "data=pd.concat((data,pd.get_dummies(data['cancellation_policy'])),axis=1)\n",
    "data=pd.concat((data,pd.get_dummies(data['city'])),axis=1)"
   ]
  },
  {
   "cell_type": "code",
   "execution_count": 242,
   "metadata": {},
   "outputs": [],
   "source": [
    "data=data.drop(['room_type','bed_type','cancellation_policy', 'city'],axis=1)"
   ]
  },
  {
   "cell_type": "code",
   "execution_count": 243,
   "metadata": {},
   "outputs": [
    {
     "data": {
      "text/plain": [
       "log_price               0\n",
       "property_type           0\n",
       "accommodates            0\n",
       "bathrooms               0\n",
       "cleaning_fee            0\n",
       "instant_bookable        0\n",
       "number_of_reviews       0\n",
       "review_scores_rating    0\n",
       "bedrooms                0\n",
       "beds                    0\n",
       "Entire home/apt         0\n",
       "Private room            0\n",
       "Shared room             0\n",
       "Airbed                  0\n",
       "Couch                   0\n",
       "Futon                   0\n",
       "Pull-out Sofa           0\n",
       "Real Bed                0\n",
       "flexible                0\n",
       "moderate                0\n",
       "strict                  0\n",
       "super_strict_30         0\n",
       "super_strict_60         0\n",
       "Boston                  0\n",
       "Chicago                 0\n",
       "DC                      0\n",
       "LA                      0\n",
       "NYC                     0\n",
       "SF                      0\n",
       "dtype: int64"
      ]
     },
     "execution_count": 243,
     "metadata": {},
     "output_type": "execute_result"
    }
   ],
   "source": [
    "data.isnull().sum()"
   ]
  },
  {
   "cell_type": "code",
   "execution_count": 244,
   "metadata": {},
   "outputs": [
    {
     "data": {
      "text/html": [
       "<div>\n",
       "<style scoped>\n",
       "    .dataframe tbody tr th:only-of-type {\n",
       "        vertical-align: middle;\n",
       "    }\n",
       "\n",
       "    .dataframe tbody tr th {\n",
       "        vertical-align: top;\n",
       "    }\n",
       "\n",
       "    .dataframe thead th {\n",
       "        text-align: right;\n",
       "    }\n",
       "</style>\n",
       "<table border=\"1\" class=\"dataframe\">\n",
       "  <thead>\n",
       "    <tr style=\"text-align: right;\">\n",
       "      <th></th>\n",
       "      <th>log_price</th>\n",
       "      <th>property_type</th>\n",
       "      <th>accommodates</th>\n",
       "      <th>bathrooms</th>\n",
       "      <th>cleaning_fee</th>\n",
       "      <th>instant_bookable</th>\n",
       "      <th>number_of_reviews</th>\n",
       "      <th>review_scores_rating</th>\n",
       "      <th>bedrooms</th>\n",
       "      <th>beds</th>\n",
       "      <th>...</th>\n",
       "      <th>moderate</th>\n",
       "      <th>strict</th>\n",
       "      <th>super_strict_30</th>\n",
       "      <th>super_strict_60</th>\n",
       "      <th>Boston</th>\n",
       "      <th>Chicago</th>\n",
       "      <th>DC</th>\n",
       "      <th>LA</th>\n",
       "      <th>NYC</th>\n",
       "      <th>SF</th>\n",
       "    </tr>\n",
       "  </thead>\n",
       "  <tbody>\n",
       "    <tr>\n",
       "      <th>0</th>\n",
       "      <td>5.010635</td>\n",
       "      <td>0</td>\n",
       "      <td>3</td>\n",
       "      <td>1.0</td>\n",
       "      <td>True</td>\n",
       "      <td>0</td>\n",
       "      <td>2</td>\n",
       "      <td>100.000000</td>\n",
       "      <td>1.0</td>\n",
       "      <td>1.0</td>\n",
       "      <td>...</td>\n",
       "      <td>0</td>\n",
       "      <td>1</td>\n",
       "      <td>0</td>\n",
       "      <td>0</td>\n",
       "      <td>0</td>\n",
       "      <td>0</td>\n",
       "      <td>0</td>\n",
       "      <td>0</td>\n",
       "      <td>1</td>\n",
       "      <td>0</td>\n",
       "    </tr>\n",
       "    <tr>\n",
       "      <th>1</th>\n",
       "      <td>5.129899</td>\n",
       "      <td>0</td>\n",
       "      <td>7</td>\n",
       "      <td>1.0</td>\n",
       "      <td>True</td>\n",
       "      <td>1</td>\n",
       "      <td>6</td>\n",
       "      <td>93.000000</td>\n",
       "      <td>3.0</td>\n",
       "      <td>3.0</td>\n",
       "      <td>...</td>\n",
       "      <td>0</td>\n",
       "      <td>1</td>\n",
       "      <td>0</td>\n",
       "      <td>0</td>\n",
       "      <td>0</td>\n",
       "      <td>0</td>\n",
       "      <td>0</td>\n",
       "      <td>0</td>\n",
       "      <td>1</td>\n",
       "      <td>0</td>\n",
       "    </tr>\n",
       "    <tr>\n",
       "      <th>2</th>\n",
       "      <td>4.976734</td>\n",
       "      <td>0</td>\n",
       "      <td>5</td>\n",
       "      <td>1.0</td>\n",
       "      <td>True</td>\n",
       "      <td>1</td>\n",
       "      <td>10</td>\n",
       "      <td>92.000000</td>\n",
       "      <td>1.0</td>\n",
       "      <td>3.0</td>\n",
       "      <td>...</td>\n",
       "      <td>1</td>\n",
       "      <td>0</td>\n",
       "      <td>0</td>\n",
       "      <td>0</td>\n",
       "      <td>0</td>\n",
       "      <td>0</td>\n",
       "      <td>0</td>\n",
       "      <td>0</td>\n",
       "      <td>1</td>\n",
       "      <td>0</td>\n",
       "    </tr>\n",
       "    <tr>\n",
       "      <th>3</th>\n",
       "      <td>6.620073</td>\n",
       "      <td>17</td>\n",
       "      <td>4</td>\n",
       "      <td>1.0</td>\n",
       "      <td>True</td>\n",
       "      <td>0</td>\n",
       "      <td>0</td>\n",
       "      <td>94.056054</td>\n",
       "      <td>2.0</td>\n",
       "      <td>2.0</td>\n",
       "      <td>...</td>\n",
       "      <td>0</td>\n",
       "      <td>0</td>\n",
       "      <td>0</td>\n",
       "      <td>0</td>\n",
       "      <td>0</td>\n",
       "      <td>0</td>\n",
       "      <td>0</td>\n",
       "      <td>0</td>\n",
       "      <td>0</td>\n",
       "      <td>1</td>\n",
       "    </tr>\n",
       "    <tr>\n",
       "      <th>4</th>\n",
       "      <td>4.744932</td>\n",
       "      <td>0</td>\n",
       "      <td>2</td>\n",
       "      <td>1.0</td>\n",
       "      <td>True</td>\n",
       "      <td>1</td>\n",
       "      <td>4</td>\n",
       "      <td>40.000000</td>\n",
       "      <td>0.0</td>\n",
       "      <td>1.0</td>\n",
       "      <td>...</td>\n",
       "      <td>1</td>\n",
       "      <td>0</td>\n",
       "      <td>0</td>\n",
       "      <td>0</td>\n",
       "      <td>0</td>\n",
       "      <td>0</td>\n",
       "      <td>1</td>\n",
       "      <td>0</td>\n",
       "      <td>0</td>\n",
       "      <td>0</td>\n",
       "    </tr>\n",
       "  </tbody>\n",
       "</table>\n",
       "<p>5 rows × 29 columns</p>\n",
       "</div>"
      ],
      "text/plain": [
       "   log_price  property_type  accommodates  bathrooms  cleaning_fee  \\\n",
       "0   5.010635              0             3        1.0          True   \n",
       "1   5.129899              0             7        1.0          True   \n",
       "2   4.976734              0             5        1.0          True   \n",
       "3   6.620073             17             4        1.0          True   \n",
       "4   4.744932              0             2        1.0          True   \n",
       "\n",
       "   instant_bookable  number_of_reviews  review_scores_rating  bedrooms  beds  \\\n",
       "0                 0                  2            100.000000       1.0   1.0   \n",
       "1                 1                  6             93.000000       3.0   3.0   \n",
       "2                 1                 10             92.000000       1.0   3.0   \n",
       "3                 0                  0             94.056054       2.0   2.0   \n",
       "4                 1                  4             40.000000       0.0   1.0   \n",
       "\n",
       "   ...  moderate  strict  super_strict_30  super_strict_60  Boston  Chicago  \\\n",
       "0  ...         0       1                0                0       0        0   \n",
       "1  ...         0       1                0                0       0        0   \n",
       "2  ...         1       0                0                0       0        0   \n",
       "3  ...         0       0                0                0       0        0   \n",
       "4  ...         1       0                0                0       0        0   \n",
       "\n",
       "   DC  LA  NYC  SF  \n",
       "0   0   0    1   0  \n",
       "1   0   0    1   0  \n",
       "2   0   0    1   0  \n",
       "3   0   0    0   1  \n",
       "4   1   0    0   0  \n",
       "\n",
       "[5 rows x 29 columns]"
      ]
     },
     "execution_count": 244,
     "metadata": {},
     "output_type": "execute_result"
    }
   ],
   "source": [
    "data.head()"
   ]
  },
  {
   "cell_type": "code",
   "execution_count": 245,
   "metadata": {},
   "outputs": [
    {
     "name": "stdout",
     "output_type": "stream",
     "text": [
      "<class 'pandas.core.frame.DataFrame'>\n",
      "RangeIndex: 43167 entries, 0 to 43166\n",
      "Data columns (total 29 columns):\n",
      " #   Column                Non-Null Count  Dtype  \n",
      "---  ------                --------------  -----  \n",
      " 0   log_price             43167 non-null  float64\n",
      " 1   property_type         43167 non-null  int8   \n",
      " 2   accommodates          43167 non-null  int64  \n",
      " 3   bathrooms             43167 non-null  float64\n",
      " 4   cleaning_fee          43167 non-null  bool   \n",
      " 5   instant_bookable      43167 non-null  int64  \n",
      " 6   number_of_reviews     43167 non-null  int64  \n",
      " 7   review_scores_rating  43167 non-null  float64\n",
      " 8   bedrooms              43167 non-null  float64\n",
      " 9   beds                  43167 non-null  float64\n",
      " 10  Entire home/apt       43167 non-null  uint8  \n",
      " 11  Private room          43167 non-null  uint8  \n",
      " 12  Shared room           43167 non-null  uint8  \n",
      " 13  Airbed                43167 non-null  uint8  \n",
      " 14  Couch                 43167 non-null  uint8  \n",
      " 15  Futon                 43167 non-null  uint8  \n",
      " 16  Pull-out Sofa         43167 non-null  uint8  \n",
      " 17  Real Bed              43167 non-null  uint8  \n",
      " 18  flexible              43167 non-null  uint8  \n",
      " 19  moderate              43167 non-null  uint8  \n",
      " 20  strict                43167 non-null  uint8  \n",
      " 21  super_strict_30       43167 non-null  uint8  \n",
      " 22  super_strict_60       43167 non-null  uint8  \n",
      " 23  Boston                43167 non-null  uint8  \n",
      " 24  Chicago               43167 non-null  uint8  \n",
      " 25  DC                    43167 non-null  uint8  \n",
      " 26  LA                    43167 non-null  uint8  \n",
      " 27  NYC                   43167 non-null  uint8  \n",
      " 28  SF                    43167 non-null  uint8  \n",
      "dtypes: bool(1), float64(5), int64(3), int8(1), uint8(19)\n",
      "memory usage: 3.5 MB\n"
     ]
    }
   ],
   "source": [
    "data.info()"
   ]
  },
  {
   "cell_type": "code",
   "execution_count": 246,
   "metadata": {},
   "outputs": [
    {
     "data": {
      "text/html": [
       "<div>\n",
       "<style scoped>\n",
       "    .dataframe tbody tr th:only-of-type {\n",
       "        vertical-align: middle;\n",
       "    }\n",
       "\n",
       "    .dataframe tbody tr th {\n",
       "        vertical-align: top;\n",
       "    }\n",
       "\n",
       "    .dataframe thead th {\n",
       "        text-align: right;\n",
       "    }\n",
       "</style>\n",
       "<table border=\"1\" class=\"dataframe\">\n",
       "  <thead>\n",
       "    <tr style=\"text-align: right;\">\n",
       "      <th></th>\n",
       "      <th>log_price</th>\n",
       "      <th>property_type</th>\n",
       "      <th>accommodates</th>\n",
       "      <th>bathrooms</th>\n",
       "      <th>instant_bookable</th>\n",
       "      <th>number_of_reviews</th>\n",
       "      <th>review_scores_rating</th>\n",
       "      <th>bedrooms</th>\n",
       "      <th>beds</th>\n",
       "      <th>Entire home/apt</th>\n",
       "      <th>...</th>\n",
       "      <th>moderate</th>\n",
       "      <th>strict</th>\n",
       "      <th>super_strict_30</th>\n",
       "      <th>super_strict_60</th>\n",
       "      <th>Boston</th>\n",
       "      <th>Chicago</th>\n",
       "      <th>DC</th>\n",
       "      <th>LA</th>\n",
       "      <th>NYC</th>\n",
       "      <th>SF</th>\n",
       "    </tr>\n",
       "  </thead>\n",
       "  <tbody>\n",
       "    <tr>\n",
       "      <th>count</th>\n",
       "      <td>43167.000000</td>\n",
       "      <td>43167.000000</td>\n",
       "      <td>43167.000000</td>\n",
       "      <td>43167.000000</td>\n",
       "      <td>43167.000000</td>\n",
       "      <td>43167.000000</td>\n",
       "      <td>43167.000000</td>\n",
       "      <td>43167.000000</td>\n",
       "      <td>43167.000000</td>\n",
       "      <td>43167.000000</td>\n",
       "      <td>...</td>\n",
       "      <td>43167.000000</td>\n",
       "      <td>43167.000000</td>\n",
       "      <td>43167.000000</td>\n",
       "      <td>43167.000000</td>\n",
       "      <td>43167.000000</td>\n",
       "      <td>43167.000000</td>\n",
       "      <td>43167.000000</td>\n",
       "      <td>43167.000000</td>\n",
       "      <td>43167.000000</td>\n",
       "      <td>43167.000000</td>\n",
       "    </tr>\n",
       "    <tr>\n",
       "      <th>mean</th>\n",
       "      <td>4.768036</td>\n",
       "      <td>5.745616</td>\n",
       "      <td>3.163227</td>\n",
       "      <td>1.240994</td>\n",
       "      <td>0.265249</td>\n",
       "      <td>21.383928</td>\n",
       "      <td>94.056054</td>\n",
       "      <td>1.272176</td>\n",
       "      <td>1.724743</td>\n",
       "      <td>0.545787</td>\n",
       "      <td>...</td>\n",
       "      <td>0.267288</td>\n",
       "      <td>0.464892</td>\n",
       "      <td>0.001761</td>\n",
       "      <td>0.000232</td>\n",
       "      <td>0.047397</td>\n",
       "      <td>0.051243</td>\n",
       "      <td>0.074849</td>\n",
       "      <td>0.304376</td>\n",
       "      <td>0.436120</td>\n",
       "      <td>0.086015</td>\n",
       "    </tr>\n",
       "    <tr>\n",
       "      <th>std</th>\n",
       "      <td>0.722506</td>\n",
       "      <td>8.449297</td>\n",
       "      <td>2.180998</td>\n",
       "      <td>0.594729</td>\n",
       "      <td>0.441471</td>\n",
       "      <td>38.189374</td>\n",
       "      <td>6.875271</td>\n",
       "      <td>0.858242</td>\n",
       "      <td>1.292788</td>\n",
       "      <td>0.497905</td>\n",
       "      <td>...</td>\n",
       "      <td>0.442549</td>\n",
       "      <td>0.498772</td>\n",
       "      <td>0.041923</td>\n",
       "      <td>0.015219</td>\n",
       "      <td>0.212490</td>\n",
       "      <td>0.220495</td>\n",
       "      <td>0.263150</td>\n",
       "      <td>0.460148</td>\n",
       "      <td>0.495908</td>\n",
       "      <td>0.280389</td>\n",
       "    </tr>\n",
       "    <tr>\n",
       "      <th>min</th>\n",
       "      <td>0.000000</td>\n",
       "      <td>0.000000</td>\n",
       "      <td>1.000000</td>\n",
       "      <td>0.000000</td>\n",
       "      <td>0.000000</td>\n",
       "      <td>0.000000</td>\n",
       "      <td>20.000000</td>\n",
       "      <td>0.000000</td>\n",
       "      <td>0.000000</td>\n",
       "      <td>0.000000</td>\n",
       "      <td>...</td>\n",
       "      <td>0.000000</td>\n",
       "      <td>0.000000</td>\n",
       "      <td>0.000000</td>\n",
       "      <td>0.000000</td>\n",
       "      <td>0.000000</td>\n",
       "      <td>0.000000</td>\n",
       "      <td>0.000000</td>\n",
       "      <td>0.000000</td>\n",
       "      <td>0.000000</td>\n",
       "      <td>0.000000</td>\n",
       "    </tr>\n",
       "    <tr>\n",
       "      <th>25%</th>\n",
       "      <td>4.248495</td>\n",
       "      <td>0.000000</td>\n",
       "      <td>2.000000</td>\n",
       "      <td>1.000000</td>\n",
       "      <td>0.000000</td>\n",
       "      <td>1.000000</td>\n",
       "      <td>93.000000</td>\n",
       "      <td>1.000000</td>\n",
       "      <td>1.000000</td>\n",
       "      <td>0.000000</td>\n",
       "      <td>...</td>\n",
       "      <td>0.000000</td>\n",
       "      <td>0.000000</td>\n",
       "      <td>0.000000</td>\n",
       "      <td>0.000000</td>\n",
       "      <td>0.000000</td>\n",
       "      <td>0.000000</td>\n",
       "      <td>0.000000</td>\n",
       "      <td>0.000000</td>\n",
       "      <td>0.000000</td>\n",
       "      <td>0.000000</td>\n",
       "    </tr>\n",
       "    <tr>\n",
       "      <th>50%</th>\n",
       "      <td>4.700480</td>\n",
       "      <td>0.000000</td>\n",
       "      <td>2.000000</td>\n",
       "      <td>1.000000</td>\n",
       "      <td>0.000000</td>\n",
       "      <td>6.000000</td>\n",
       "      <td>94.056054</td>\n",
       "      <td>1.000000</td>\n",
       "      <td>1.000000</td>\n",
       "      <td>1.000000</td>\n",
       "      <td>...</td>\n",
       "      <td>0.000000</td>\n",
       "      <td>0.000000</td>\n",
       "      <td>0.000000</td>\n",
       "      <td>0.000000</td>\n",
       "      <td>0.000000</td>\n",
       "      <td>0.000000</td>\n",
       "      <td>0.000000</td>\n",
       "      <td>0.000000</td>\n",
       "      <td>0.000000</td>\n",
       "      <td>0.000000</td>\n",
       "    </tr>\n",
       "    <tr>\n",
       "      <th>75%</th>\n",
       "      <td>5.192957</td>\n",
       "      <td>17.000000</td>\n",
       "      <td>4.000000</td>\n",
       "      <td>1.000000</td>\n",
       "      <td>1.000000</td>\n",
       "      <td>24.000000</td>\n",
       "      <td>99.000000</td>\n",
       "      <td>1.000000</td>\n",
       "      <td>2.000000</td>\n",
       "      <td>1.000000</td>\n",
       "      <td>...</td>\n",
       "      <td>1.000000</td>\n",
       "      <td>1.000000</td>\n",
       "      <td>0.000000</td>\n",
       "      <td>0.000000</td>\n",
       "      <td>0.000000</td>\n",
       "      <td>0.000000</td>\n",
       "      <td>0.000000</td>\n",
       "      <td>1.000000</td>\n",
       "      <td>1.000000</td>\n",
       "      <td>0.000000</td>\n",
       "    </tr>\n",
       "    <tr>\n",
       "      <th>max</th>\n",
       "      <td>7.600402</td>\n",
       "      <td>32.000000</td>\n",
       "      <td>16.000000</td>\n",
       "      <td>8.000000</td>\n",
       "      <td>1.000000</td>\n",
       "      <td>542.000000</td>\n",
       "      <td>100.000000</td>\n",
       "      <td>10.000000</td>\n",
       "      <td>18.000000</td>\n",
       "      <td>1.000000</td>\n",
       "      <td>...</td>\n",
       "      <td>1.000000</td>\n",
       "      <td>1.000000</td>\n",
       "      <td>1.000000</td>\n",
       "      <td>1.000000</td>\n",
       "      <td>1.000000</td>\n",
       "      <td>1.000000</td>\n",
       "      <td>1.000000</td>\n",
       "      <td>1.000000</td>\n",
       "      <td>1.000000</td>\n",
       "      <td>1.000000</td>\n",
       "    </tr>\n",
       "  </tbody>\n",
       "</table>\n",
       "<p>8 rows × 28 columns</p>\n",
       "</div>"
      ],
      "text/plain": [
       "          log_price  property_type  accommodates     bathrooms  \\\n",
       "count  43167.000000   43167.000000  43167.000000  43167.000000   \n",
       "mean       4.768036       5.745616      3.163227      1.240994   \n",
       "std        0.722506       8.449297      2.180998      0.594729   \n",
       "min        0.000000       0.000000      1.000000      0.000000   \n",
       "25%        4.248495       0.000000      2.000000      1.000000   \n",
       "50%        4.700480       0.000000      2.000000      1.000000   \n",
       "75%        5.192957      17.000000      4.000000      1.000000   \n",
       "max        7.600402      32.000000     16.000000      8.000000   \n",
       "\n",
       "       instant_bookable  number_of_reviews  review_scores_rating  \\\n",
       "count      43167.000000       43167.000000          43167.000000   \n",
       "mean           0.265249          21.383928             94.056054   \n",
       "std            0.441471          38.189374              6.875271   \n",
       "min            0.000000           0.000000             20.000000   \n",
       "25%            0.000000           1.000000             93.000000   \n",
       "50%            0.000000           6.000000             94.056054   \n",
       "75%            1.000000          24.000000             99.000000   \n",
       "max            1.000000         542.000000            100.000000   \n",
       "\n",
       "           bedrooms          beds  Entire home/apt  ...      moderate  \\\n",
       "count  43167.000000  43167.000000     43167.000000  ...  43167.000000   \n",
       "mean       1.272176      1.724743         0.545787  ...      0.267288   \n",
       "std        0.858242      1.292788         0.497905  ...      0.442549   \n",
       "min        0.000000      0.000000         0.000000  ...      0.000000   \n",
       "25%        1.000000      1.000000         0.000000  ...      0.000000   \n",
       "50%        1.000000      1.000000         1.000000  ...      0.000000   \n",
       "75%        1.000000      2.000000         1.000000  ...      1.000000   \n",
       "max       10.000000     18.000000         1.000000  ...      1.000000   \n",
       "\n",
       "             strict  super_strict_30  super_strict_60        Boston  \\\n",
       "count  43167.000000     43167.000000     43167.000000  43167.000000   \n",
       "mean       0.464892         0.001761         0.000232      0.047397   \n",
       "std        0.498772         0.041923         0.015219      0.212490   \n",
       "min        0.000000         0.000000         0.000000      0.000000   \n",
       "25%        0.000000         0.000000         0.000000      0.000000   \n",
       "50%        0.000000         0.000000         0.000000      0.000000   \n",
       "75%        1.000000         0.000000         0.000000      0.000000   \n",
       "max        1.000000         1.000000         1.000000      1.000000   \n",
       "\n",
       "            Chicago            DC            LA           NYC            SF  \n",
       "count  43167.000000  43167.000000  43167.000000  43167.000000  43167.000000  \n",
       "mean       0.051243      0.074849      0.304376      0.436120      0.086015  \n",
       "std        0.220495      0.263150      0.460148      0.495908      0.280389  \n",
       "min        0.000000      0.000000      0.000000      0.000000      0.000000  \n",
       "25%        0.000000      0.000000      0.000000      0.000000      0.000000  \n",
       "50%        0.000000      0.000000      0.000000      0.000000      0.000000  \n",
       "75%        0.000000      0.000000      1.000000      1.000000      0.000000  \n",
       "max        1.000000      1.000000      1.000000      1.000000      1.000000  \n",
       "\n",
       "[8 rows x 28 columns]"
      ]
     },
     "execution_count": 246,
     "metadata": {},
     "output_type": "execute_result"
    }
   ],
   "source": [
    "data.describe()"
   ]
  },
  {
   "cell_type": "markdown",
   "metadata": {},
   "source": [
    "## Splitting the data"
   ]
  },
  {
   "cell_type": "code",
   "execution_count": 247,
   "metadata": {},
   "outputs": [],
   "source": [
    "y = pd.DataFrame(data['log_price'])"
   ]
  },
  {
   "cell_type": "code",
   "execution_count": 248,
   "metadata": {},
   "outputs": [
    {
     "data": {
      "text/html": [
       "<div>\n",
       "<style scoped>\n",
       "    .dataframe tbody tr th:only-of-type {\n",
       "        vertical-align: middle;\n",
       "    }\n",
       "\n",
       "    .dataframe tbody tr th {\n",
       "        vertical-align: top;\n",
       "    }\n",
       "\n",
       "    .dataframe thead th {\n",
       "        text-align: right;\n",
       "    }\n",
       "</style>\n",
       "<table border=\"1\" class=\"dataframe\">\n",
       "  <thead>\n",
       "    <tr style=\"text-align: right;\">\n",
       "      <th></th>\n",
       "      <th>property_type</th>\n",
       "      <th>accommodates</th>\n",
       "      <th>bathrooms</th>\n",
       "      <th>cleaning_fee</th>\n",
       "      <th>instant_bookable</th>\n",
       "      <th>number_of_reviews</th>\n",
       "      <th>review_scores_rating</th>\n",
       "      <th>bedrooms</th>\n",
       "      <th>beds</th>\n",
       "      <th>Entire home/apt</th>\n",
       "      <th>...</th>\n",
       "      <th>moderate</th>\n",
       "      <th>strict</th>\n",
       "      <th>super_strict_30</th>\n",
       "      <th>super_strict_60</th>\n",
       "      <th>Boston</th>\n",
       "      <th>Chicago</th>\n",
       "      <th>DC</th>\n",
       "      <th>LA</th>\n",
       "      <th>NYC</th>\n",
       "      <th>SF</th>\n",
       "    </tr>\n",
       "  </thead>\n",
       "  <tbody>\n",
       "    <tr>\n",
       "      <th>0</th>\n",
       "      <td>0</td>\n",
       "      <td>3</td>\n",
       "      <td>1.0</td>\n",
       "      <td>True</td>\n",
       "      <td>0</td>\n",
       "      <td>2</td>\n",
       "      <td>100.000000</td>\n",
       "      <td>1.0</td>\n",
       "      <td>1.0</td>\n",
       "      <td>1</td>\n",
       "      <td>...</td>\n",
       "      <td>0</td>\n",
       "      <td>1</td>\n",
       "      <td>0</td>\n",
       "      <td>0</td>\n",
       "      <td>0</td>\n",
       "      <td>0</td>\n",
       "      <td>0</td>\n",
       "      <td>0</td>\n",
       "      <td>1</td>\n",
       "      <td>0</td>\n",
       "    </tr>\n",
       "    <tr>\n",
       "      <th>1</th>\n",
       "      <td>0</td>\n",
       "      <td>7</td>\n",
       "      <td>1.0</td>\n",
       "      <td>True</td>\n",
       "      <td>1</td>\n",
       "      <td>6</td>\n",
       "      <td>93.000000</td>\n",
       "      <td>3.0</td>\n",
       "      <td>3.0</td>\n",
       "      <td>1</td>\n",
       "      <td>...</td>\n",
       "      <td>0</td>\n",
       "      <td>1</td>\n",
       "      <td>0</td>\n",
       "      <td>0</td>\n",
       "      <td>0</td>\n",
       "      <td>0</td>\n",
       "      <td>0</td>\n",
       "      <td>0</td>\n",
       "      <td>1</td>\n",
       "      <td>0</td>\n",
       "    </tr>\n",
       "    <tr>\n",
       "      <th>2</th>\n",
       "      <td>0</td>\n",
       "      <td>5</td>\n",
       "      <td>1.0</td>\n",
       "      <td>True</td>\n",
       "      <td>1</td>\n",
       "      <td>10</td>\n",
       "      <td>92.000000</td>\n",
       "      <td>1.0</td>\n",
       "      <td>3.0</td>\n",
       "      <td>1</td>\n",
       "      <td>...</td>\n",
       "      <td>1</td>\n",
       "      <td>0</td>\n",
       "      <td>0</td>\n",
       "      <td>0</td>\n",
       "      <td>0</td>\n",
       "      <td>0</td>\n",
       "      <td>0</td>\n",
       "      <td>0</td>\n",
       "      <td>1</td>\n",
       "      <td>0</td>\n",
       "    </tr>\n",
       "    <tr>\n",
       "      <th>3</th>\n",
       "      <td>17</td>\n",
       "      <td>4</td>\n",
       "      <td>1.0</td>\n",
       "      <td>True</td>\n",
       "      <td>0</td>\n",
       "      <td>0</td>\n",
       "      <td>94.056054</td>\n",
       "      <td>2.0</td>\n",
       "      <td>2.0</td>\n",
       "      <td>1</td>\n",
       "      <td>...</td>\n",
       "      <td>0</td>\n",
       "      <td>0</td>\n",
       "      <td>0</td>\n",
       "      <td>0</td>\n",
       "      <td>0</td>\n",
       "      <td>0</td>\n",
       "      <td>0</td>\n",
       "      <td>0</td>\n",
       "      <td>0</td>\n",
       "      <td>1</td>\n",
       "    </tr>\n",
       "    <tr>\n",
       "      <th>4</th>\n",
       "      <td>0</td>\n",
       "      <td>2</td>\n",
       "      <td>1.0</td>\n",
       "      <td>True</td>\n",
       "      <td>1</td>\n",
       "      <td>4</td>\n",
       "      <td>40.000000</td>\n",
       "      <td>0.0</td>\n",
       "      <td>1.0</td>\n",
       "      <td>1</td>\n",
       "      <td>...</td>\n",
       "      <td>1</td>\n",
       "      <td>0</td>\n",
       "      <td>0</td>\n",
       "      <td>0</td>\n",
       "      <td>0</td>\n",
       "      <td>0</td>\n",
       "      <td>1</td>\n",
       "      <td>0</td>\n",
       "      <td>0</td>\n",
       "      <td>0</td>\n",
       "    </tr>\n",
       "  </tbody>\n",
       "</table>\n",
       "<p>5 rows × 28 columns</p>\n",
       "</div>"
      ],
      "text/plain": [
       "   property_type  accommodates  bathrooms  cleaning_fee  instant_bookable  \\\n",
       "0              0             3        1.0          True                 0   \n",
       "1              0             7        1.0          True                 1   \n",
       "2              0             5        1.0          True                 1   \n",
       "3             17             4        1.0          True                 0   \n",
       "4              0             2        1.0          True                 1   \n",
       "\n",
       "   number_of_reviews  review_scores_rating  bedrooms  beds  Entire home/apt  \\\n",
       "0                  2            100.000000       1.0   1.0                1   \n",
       "1                  6             93.000000       3.0   3.0                1   \n",
       "2                 10             92.000000       1.0   3.0                1   \n",
       "3                  0             94.056054       2.0   2.0                1   \n",
       "4                  4             40.000000       0.0   1.0                1   \n",
       "\n",
       "   ...  moderate  strict  super_strict_30  super_strict_60  Boston  Chicago  \\\n",
       "0  ...         0       1                0                0       0        0   \n",
       "1  ...         0       1                0                0       0        0   \n",
       "2  ...         1       0                0                0       0        0   \n",
       "3  ...         0       0                0                0       0        0   \n",
       "4  ...         1       0                0                0       0        0   \n",
       "\n",
       "   DC  LA  NYC  SF  \n",
       "0   0   0    1   0  \n",
       "1   0   0    1   0  \n",
       "2   0   0    1   0  \n",
       "3   0   0    0   1  \n",
       "4   1   0    0   0  \n",
       "\n",
       "[5 rows x 28 columns]"
      ]
     },
     "execution_count": 248,
     "metadata": {},
     "output_type": "execute_result"
    }
   ],
   "source": [
    "X=data.drop(['log_price'],axis=1)\n",
    "X.head()"
   ]
  },
  {
   "cell_type": "code",
   "execution_count": 249,
   "metadata": {},
   "outputs": [],
   "source": [
    "from sklearn.model_selection import train_test_split\n",
    "X_train_org, X_test_org, y_train, y_test = train_test_split(X,y,test_size=0.25, random_state = 0)"
   ]
  },
  {
   "cell_type": "markdown",
   "metadata": {},
   "source": [
    "## Scaling the Data"
   ]
  },
  {
   "cell_type": "markdown",
   "metadata": {},
   "source": [
    "#### We used Standard scaling as features in the dataset had outliers; all the features were normalized to unit variance for better estimation of the various machine learning algorithms utilized in the project."
   ]
  },
  {
   "cell_type": "code",
   "execution_count": 250,
   "metadata": {},
   "outputs": [],
   "source": [
    "from sklearn.preprocessing import StandardScaler\n",
    "\n",
    "scaler = StandardScaler()\n",
    "\n",
    "X_train = scaler.fit_transform(X_train_org)\n",
    "X_test = scaler.transform(X_test_org)"
   ]
  },
  {
   "cell_type": "code",
   "execution_count": 251,
   "metadata": {},
   "outputs": [
    {
     "name": "stdout",
     "output_type": "stream",
     "text": [
      "Train dataset dimensionality: (32375, 28)\n",
      "Train dataset dimensionality: (32375, 1)\n"
     ]
    }
   ],
   "source": [
    "X_train = pd.DataFrame(X_train, columns = X_train_org.columns)\n",
    "print('Train dataset dimensionality:' , X_train.shape)\n",
    "print('Train dataset dimensionality:' , y_train.shape)"
   ]
  },
  {
   "cell_type": "code",
   "execution_count": 252,
   "metadata": {},
   "outputs": [
    {
     "name": "stdout",
     "output_type": "stream",
     "text": [
      "Test dataset dimensionality: (10792, 28)\n",
      "Train dataset dimensionality: (10792, 1)\n"
     ]
    }
   ],
   "source": [
    "X_test = pd.DataFrame(X_test, columns = X_test_org.columns)\n",
    "print('Test dataset dimensionality:' , X_test.shape)\n",
    "print('Train dataset dimensionality:' , y_test.shape)"
   ]
  },
  {
   "cell_type": "markdown",
   "metadata": {},
   "source": [
    "## Bagging\n",
    "Bagging allows training instances to be sampled several times for the same predictor. To perform bagging, we have the hyper parameter 'bootstrap' which is responsible for aggregation and is set to True while building the model."
   ]
  },
  {
   "cell_type": "markdown",
   "metadata": {},
   "source": [
    "### Model 1 - Random Forest Regressor with Bagging"
   ]
  },
  {
   "cell_type": "code",
   "execution_count": 38,
   "metadata": {},
   "outputs": [
    {
     "name": "stdout",
     "output_type": "stream",
     "text": [
      "Best parameters: {'max_samples': 500, 'n_estimators': 500}\n",
      "Best cross-validation score: 0.61\n"
     ]
    }
   ],
   "source": [
    "# Grid search to find the best parameter for bagging\n",
    "from sklearn.model_selection import GridSearchCV\n",
    "from sklearn.ensemble import BaggingRegressor\n",
    "param_grid = {'n_estimators': [50,100,150,200,500],\n",
    "              'max_samples': [50,100,150,200,500]}\n",
    "\n",
    "grid_search = GridSearchCV(BaggingRegressor(), param_grid, cv=5, return_train_score=True)\n",
    "grid_search.fit(X_train, y_train)\n",
    "print(\"Best parameters: {}\".format(grid_search.best_params_))\n",
    "print(\"Best cross-validation score: {:.2f}\".format(grid_search.best_score_))"
   ]
  },
  {
   "cell_type": "code",
   "execution_count": 47,
   "metadata": {},
   "outputs": [
    {
     "name": "stdout",
     "output_type": "stream",
     "text": [
      "Best parameters: {'max_depth': 9}\n",
      "Best cross-validation score: 0.61\n"
     ]
    }
   ],
   "source": [
    "#Grid Search to find best parameter for RandomForest Regressor\n",
    "from sklearn.ensemble import RandomForestRegressor\n",
    "param_grid = {'max_depth': np.arange(1, 10)}\n",
    "grid_search = GridSearchCV(RandomForestRegressor(), param_grid, cv=5, return_train_score=True)\n",
    "grid_search.fit(X_train, y_train)\n",
    "print(\"Best parameters: {}\".format(grid_search.best_params_))\n",
    "print(\"Best cross-validation score: {:.2f}\".format(grid_search.best_score_))"
   ]
  },
  {
   "cell_type": "code",
   "execution_count": 48,
   "metadata": {},
   "outputs": [
    {
     "name": "stdout",
     "output_type": "stream",
     "text": [
      "Train score: 0.60\n",
      "Test score: 0.59\n",
      "RMSE: 0.4585\n",
      "r2_score: 0.5944\n"
     ]
    }
   ],
   "source": [
    "from sklearn.ensemble import BaggingRegressor\n",
    "from sklearn.ensemble import RandomForestRegressor\n",
    "\n",
    "rf_reg = RandomForestRegressor(max_depth=9, random_state=0)\n",
    "bag_clf = BaggingRegressor(rf_reg, bootstrap=True, n_estimators=500, max_samples=500, oob_score=True, random_state=0)\n",
    "\n",
    "bag_clf.fit(X_train, y_train)\n",
    "\n",
    "pred_rfreg = bag_clf.predict(X_test)\n",
    "\n",
    "print('Train score: {:.2f}'.format(bag_clf.score(X_train, y_train)))\n",
    "print('Test score: {:.2f}'.format(bag_clf.score(X_test, y_test)))\n",
    "\n",
    "print('RMSE: {:.4f}'.format(np.sqrt(mean_squared_error(y_test,pred_rfreg))))\n",
    "print('r2_score: {:.4f}'.format(r2_score(y_test,pred_rfreg)))"
   ]
  },
  {
   "cell_type": "code",
   "execution_count": 49,
   "metadata": {},
   "outputs": [
    {
     "data": {
      "text/plain": [
       "0.5993613718180223"
      ]
     },
     "execution_count": 49,
     "metadata": {},
     "output_type": "execute_result"
    }
   ],
   "source": [
    "bag_clf.oob_score_"
   ]
  },
  {
   "cell_type": "markdown",
   "metadata": {},
   "source": [
    "### Model 2 - Decision Tree with Bagging"
   ]
  },
  {
   "cell_type": "code",
   "execution_count": 41,
   "metadata": {},
   "outputs": [
    {
     "name": "stdout",
     "output_type": "stream",
     "text": [
      "Best parameters: {'max_samples': 500, 'n_estimators': 500}\n",
      "Best cross-validation score: 0.61\n"
     ]
    }
   ],
   "source": [
    "# Grid search to find the best parameter for bagging\n",
    "from sklearn.model_selection import GridSearchCV\n",
    "from sklearn.ensemble import BaggingRegressor\n",
    "param_grid = {'n_estimators': [50,100,150,200,500],\n",
    "              'max_samples': [50,100,150,200,500]}\n",
    "\n",
    "grid_search = GridSearchCV(BaggingRegressor(), param_grid, cv=5, return_train_score=True)\n",
    "grid_search.fit(X_train, y_train)\n",
    "print(\"Best parameters: {}\".format(grid_search.best_params_))\n",
    "print(\"Best cross-validation score: {:.2f}\".format(grid_search.best_score_))"
   ]
  },
  {
   "cell_type": "code",
   "execution_count": 42,
   "metadata": {},
   "outputs": [
    {
     "name": "stdout",
     "output_type": "stream",
     "text": [
      "Best parameters: {'max_depth': 7}\n",
      "Best cross-validation score: 0.58\n"
     ]
    }
   ],
   "source": [
    "# Grid search to find the best parameter for the model\n",
    "from sklearn.tree import DecisionTreeRegressor\n",
    "from sklearn.model_selection import GridSearchCV\n",
    "param_grid = {'max_depth': np.arange(1, 10)}\n",
    "grid_search = GridSearchCV(DecisionTreeRegressor(random_state=0), param_grid, cv=5, return_train_score=True)\n",
    "grid_search.fit(X_train, y_train)\n",
    "print(\"Best parameters: {}\".format(grid_search.best_params_))\n",
    "print(\"Best cross-validation score: {:.2f}\".format(grid_search.best_score_))"
   ]
  },
  {
   "cell_type": "code",
   "execution_count": 43,
   "metadata": {},
   "outputs": [
    {
     "name": "stdout",
     "output_type": "stream",
     "text": [
      "Train score: 0.60\n",
      "Test score: 0.59\n",
      "RMSE: 0.4587\n",
      "r2_score: 0.5940\n"
     ]
    }
   ],
   "source": [
    "from sklearn.ensemble import BaggingRegressor\n",
    "from sklearn.tree import DecisionTreeRegressor\n",
    "\n",
    "dtree = DecisionTreeRegressor(max_depth=7,random_state=0)\n",
    "\n",
    "bag_clf = BaggingRegressor(dtree, bootstrap=True,n_estimators=500, max_samples=500,oob_score=True, random_state=0)\n",
    "\n",
    "bag_clf.fit(X_train, y_train)\n",
    "\n",
    "pred_dtree = bag_clf.predict(X_test)\n",
    "\n",
    "print('Train score: {:.2f}'.format(bag_clf.score(X_train, y_train)))\n",
    "print('Test score: {:.2f}'.format(bag_clf.score(X_test, y_test)))\n",
    "\n",
    "print('RMSE: {:.4f}'.format(np.sqrt(mean_squared_error(y_test,pred_dtree))))\n",
    "print('r2_score: {:.4f}'.format(r2_score(y_test,pred_dtree)))"
   ]
  },
  {
   "cell_type": "code",
   "execution_count": 44,
   "metadata": {},
   "outputs": [
    {
     "data": {
      "text/plain": [
       "0.599158158813542"
      ]
     },
     "execution_count": 44,
     "metadata": {},
     "output_type": "execute_result"
    }
   ],
   "source": [
    "bag_clf.oob_score_"
   ]
  },
  {
   "cell_type": "markdown",
   "metadata": {},
   "source": [
    "## Pasting\n",
    "When sampling is performed without replacement, it is called pasting. To perform pasting, we have the hyper parameter 'bootstrap' which is responsible for aggregation set to False while building the model."
   ]
  },
  {
   "cell_type": "markdown",
   "metadata": {},
   "source": [
    "### Model 1 - Random Forest Regressor with Pasting"
   ]
  },
  {
   "cell_type": "code",
   "execution_count": 53,
   "metadata": {},
   "outputs": [
    {
     "name": "stdout",
     "output_type": "stream",
     "text": [
      "Best parameters: {'max_samples': 500, 'n_estimators': 500}\n",
      "Best cross-validation score: 0.61\n"
     ]
    }
   ],
   "source": [
    "# Grid search to find the best parameter for Pasting\n",
    "from sklearn.model_selection import GridSearchCV\n",
    "from sklearn.ensemble import BaggingRegressor\n",
    "param_grid = {'n_estimators': [50,100,200,500],\n",
    "              'max_samples': [50,100,200,400,500]}\n",
    "\n",
    "grid_search = GridSearchCV(BaggingRegressor(), param_grid, cv=5, return_train_score=True)\n",
    "grid_search.fit(X_train, y_train)\n",
    "print(\"Best parameters: {}\".format(grid_search.best_params_))\n",
    "print(\"Best cross-validation score: {:.2f}\".format(grid_search.best_score_))"
   ]
  },
  {
   "cell_type": "code",
   "execution_count": 45,
   "metadata": {},
   "outputs": [
    {
     "name": "stdout",
     "output_type": "stream",
     "text": [
      "Best parameters: {'max_depth': 9}\n",
      "Best cross-validation score: 0.61\n"
     ]
    }
   ],
   "source": [
    "#Grid Search to find best parameter for RandomForest Regressor\n",
    "from sklearn.ensemble import RandomForestRegressor\n",
    "param_grid = {'max_depth': np.arange(1, 10)}\n",
    "grid_search = GridSearchCV(RandomForestRegressor(), param_grid, cv=5, return_train_score=True)\n",
    "grid_search.fit(X_train, y_train)\n",
    "print(\"Best parameters: {}\".format(grid_search.best_params_))\n",
    "print(\"Best cross-validation score: {:.2f}\".format(grid_search.best_score_))"
   ]
  },
  {
   "cell_type": "code",
   "execution_count": 50,
   "metadata": {},
   "outputs": [
    {
     "name": "stdout",
     "output_type": "stream",
     "text": [
      "Train score: 0.61\n",
      "Test score: 0.60\n",
      "RMSE: 0.4580\n",
      "r2_score: 0.5952\n"
     ]
    }
   ],
   "source": [
    "from sklearn.ensemble import BaggingRegressor\n",
    "from sklearn.ensemble import RandomForestRegressor\n",
    "\n",
    "rf_reg = RandomForestRegressor(max_depth=9, random_state=0)\n",
    "bag_clf = BaggingRegressor(rf_reg, n_estimators=500, max_samples=500, bootstrap=False, random_state=0)\n",
    "\n",
    "bag_clf.fit(X_train, y_train)\n",
    "\n",
    "pred_rfreg = bag_clf.predict(X_test)\n",
    "\n",
    "print('Train score: {:.2f}'.format(bag_clf.score(X_train, y_train)))\n",
    "print('Test score: {:.2f}'.format(bag_clf.score(X_test, y_test)))\n",
    "\n",
    "print('RMSE: {:.4f}'.format(np.sqrt(mean_squared_error(y_test,pred_rfreg))))\n",
    "print('r2_score: {:.4f}'.format(r2_score(y_test,pred_rfreg)))"
   ]
  },
  {
   "cell_type": "markdown",
   "metadata": {},
   "source": [
    "### Model 2 - Lasso Regressor with Pasting"
   ]
  },
  {
   "cell_type": "code",
   "execution_count": 65,
   "metadata": {},
   "outputs": [
    {
     "name": "stdout",
     "output_type": "stream",
     "text": [
      "Best parameters: {'max_samples': 500, 'n_estimators': 500}\n",
      "Best cross-validation score: 0.61\n"
     ]
    }
   ],
   "source": [
    "# Grid search to find the best parameter for Pasting\n",
    "from sklearn.model_selection import GridSearchCV\n",
    "from sklearn.ensemble import BaggingRegressor\n",
    "param_grid = {'n_estimators': [50,100,150,200,500],\n",
    "              'max_samples': [50,100,150,200,500]}\n",
    "\n",
    "grid_search = GridSearchCV(BaggingRegressor(), param_grid, cv=5, return_train_score=True)\n",
    "grid_search.fit(X_train, y_train)\n",
    "print(\"Best parameters: {}\".format(grid_search.best_params_))\n",
    "print(\"Best cross-validation score: {:.2f}\".format(grid_search.best_score_))"
   ]
  },
  {
   "cell_type": "code",
   "execution_count": 51,
   "metadata": {},
   "outputs": [
    {
     "name": "stdout",
     "output_type": "stream",
     "text": [
      "Best parameters: {'alpha': 0.001}\n",
      "Best cross-validation score: 0.57\n"
     ]
    }
   ],
   "source": [
    "# Grid search to find the best parameter for the model\n",
    "from  sklearn.linear_model import Lasso\n",
    "param_grid = {'alpha':[0.001, 0.01, 0.1, 1, 10, 100, 1000]}\n",
    "grid_search = GridSearchCV(Lasso(), param_grid, cv=5, return_train_score=True)\n",
    "grid_search.fit(X_train, y_train)\n",
    "print(\"Best parameters: {}\".format(grid_search.best_params_))\n",
    "print(\"Best cross-validation score: {:.2f}\".format(grid_search.best_score_))"
   ]
  },
  {
   "cell_type": "code",
   "execution_count": 67,
   "metadata": {},
   "outputs": [
    {
     "name": "stdout",
     "output_type": "stream",
     "text": [
      "Train Score: 0.57\n",
      "Test Score: 0.56\n"
     ]
    }
   ],
   "source": [
    "lasso = Lasso(alpha=0.001)\n",
    "bag_lasso_reg = BaggingRegressor(lasso, n_estimators=500, max_samples=500, bootstrap=False, n_jobs=-1, random_state=0)\n",
    "\n",
    "bag_lasso_reg.fit(X_train, y_train)\n",
    "y_pred = bag_lasso_reg.predict(X_test)\n",
    "\n",
    "print('Train Score: {:.2f}'.format(bag_lasso_reg.score(X_train, y_train)))\n",
    "print('Test Score: {:.2f}'.format(bag_lasso_reg.score(X_test, y_test)))"
   ]
  },
  {
   "cell_type": "markdown",
   "metadata": {},
   "source": [
    "## Adaboost Boosting\n",
    "Adaboost helps you combine multiple “weak classifiers” into a single “strong classifier”."
   ]
  },
  {
   "cell_type": "markdown",
   "metadata": {},
   "source": [
    "### Model 1 - Decision Tree"
   ]
  },
  {
   "cell_type": "code",
   "execution_count": 55,
   "metadata": {},
   "outputs": [
    {
     "name": "stdout",
     "output_type": "stream",
     "text": [
      "Best parameters: {'learning_rate': 0.01, 'n_estimators': 200}\n",
      "Best cross-validation score: 0.54\n"
     ]
    }
   ],
   "source": [
    "# Grid search to find the best adaboost\n",
    "from sklearn.model_selection import GridSearchCV\n",
    "from sklearn.ensemble import AdaBoostRegressor\n",
    "param_grid = {'n_estimators': [50,100,200,500],\n",
    "              'learning_rate': [0.01, 0.05, 0.1, 0.5, 1]}\n",
    "\n",
    "grid_search = GridSearchCV(AdaBoostRegressor(random_state = 0), param_grid, cv=5, return_train_score=True)\n",
    "grid_search.fit(X_train, y_train)\n",
    "print(\"Best parameters: {}\".format(grid_search.best_params_))\n",
    "print(\"Best cross-validation score: {:.2f}\".format(grid_search.best_score_))"
   ]
  },
  {
   "cell_type": "code",
   "execution_count": 56,
   "metadata": {},
   "outputs": [
    {
     "name": "stdout",
     "output_type": "stream",
     "text": [
      "Best parameters: {'max_depth': 7}\n",
      "Best cross-validation score: 0.58\n"
     ]
    }
   ],
   "source": [
    "# Grid search to find the best parameter for the model\n",
    "from sklearn.tree import DecisionTreeRegressor\n",
    "from sklearn.model_selection import GridSearchCV\n",
    "param_grid = {'max_depth': np.arange(1, 10)}\n",
    "grid_search = GridSearchCV(DecisionTreeRegressor(random_state=0), param_grid, cv=5, return_train_score=True)\n",
    "grid_search.fit(X_train, y_train)\n",
    "print(\"Best parameters: {}\".format(grid_search.best_params_))\n",
    "print(\"Best cross-validation score: {:.2f}\".format(grid_search.best_score_))"
   ]
  },
  {
   "cell_type": "code",
   "execution_count": 57,
   "metadata": {},
   "outputs": [
    {
     "name": "stdout",
     "output_type": "stream",
     "text": [
      "Accuracy on training set: 0.616\n",
      "Accuracy on test set: 0.595\n",
      "RMSE: 0.4580\n",
      "r2_score: 0.5952\n"
     ]
    }
   ],
   "source": [
    "from sklearn.tree import DecisionTreeRegressor\n",
    "from sklearn.ensemble import AdaBoostRegressor\n",
    "\n",
    "dtree = DecisionTreeRegressor(max_depth=7,random_state=0)\n",
    "\n",
    "ada_clf = AdaBoostRegressor(dtree, n_estimators=200,learning_rate=0.01, random_state=0)\n",
    "\n",
    "ada_clf.fit(X_train, y_train)\n",
    "\n",
    "pred_dtree = bag_clf.predict(X_test)\n",
    "\n",
    "print(\"Accuracy on training set: {:.3f}\".format(ada_clf.score(X_train, y_train)))\n",
    "print(\"Accuracy on test set: {:.3f}\".format(ada_clf.score(X_test, y_test)))\n",
    "print('RMSE: {:.4f}'.format(np.sqrt(mean_squared_error(y_test,pred_dtree))))\n",
    "print('r2_score: {:.4f}'.format(r2_score(y_test,pred_dtree)))"
   ]
  },
  {
   "cell_type": "markdown",
   "metadata": {},
   "source": [
    "### Model 2 - Ridge Regression"
   ]
  },
  {
   "cell_type": "code",
   "execution_count": 62,
   "metadata": {},
   "outputs": [
    {
     "name": "stdout",
     "output_type": "stream",
     "text": [
      "Best parameters: {'alpha': 10}\n",
      "Best cross-validation score: 0.57\n"
     ]
    }
   ],
   "source": [
    "#Grid Search to find best parameter for Ridge Regressor\n",
    "from  sklearn.linear_model import Ridge\n",
    "param_grid = {'alpha':[0.001, 0.01, 0.1, 1, 10, 100, 1000]}\n",
    "grid_search = GridSearchCV(Ridge(), param_grid, cv=5, return_train_score=True)\n",
    "grid_search.fit(X_train, y_train)\n",
    "print(\"Best parameters: {}\".format(grid_search.best_params_))\n",
    "print(\"Best cross-validation score: {:.2f}\".format(grid_search.best_score_))"
   ]
  },
  {
   "cell_type": "code",
   "execution_count": 63,
   "metadata": {},
   "outputs": [
    {
     "name": "stdout",
     "output_type": "stream",
     "text": [
      "Best parameters: {'learning_rate': 0.01, 'n_estimators': 200}\n",
      "Best cross-validation score: 0.54\n"
     ]
    }
   ],
   "source": [
    "# Grid search to find the best adaboost\n",
    "from sklearn.model_selection import GridSearchCV\n",
    "from sklearn.ensemble import AdaBoostRegressor\n",
    "param_grid = {'n_estimators': [50,100,200,500],\n",
    "              'learning_rate': [0.01, 0.05, 0.1, 0.5, 1]}\n",
    "\n",
    "grid_search = GridSearchCV(AdaBoostRegressor(random_state = 0), param_grid, cv=5, return_train_score=True)\n",
    "grid_search.fit(X_train, y_train)\n",
    "print(\"Best parameters: {}\".format(grid_search.best_params_))\n",
    "print(\"Best cross-validation score: {:.2f}\".format(grid_search.best_score_))"
   ]
  },
  {
   "cell_type": "code",
   "execution_count": 66,
   "metadata": {},
   "outputs": [
    {
     "name": "stdout",
     "output_type": "stream",
     "text": [
      "Train Score: 0.57\n",
      "Test Score: 0.56\n",
      "RMSE: 0.4779\n",
      "r2_score: 0.5593\n"
     ]
    }
   ],
   "source": [
    "from sklearn.ensemble import AdaBoostRegressor\n",
    "from  sklearn.linear_model import Ridge\n",
    "\n",
    "ridge = Ridge(alpha=10)\n",
    "ada_reg = AdaBoostRegressor(ridge,n_estimators=200, learning_rate=0.01, random_state=0)\n",
    "\n",
    "ada_reg.fit(X_train, y_train)\n",
    "y_pred = ada_reg.predict(X_test)\n",
    "\n",
    "print('Train Score: {:.2f}'.format(ada_reg.score(X_train, y_train)))\n",
    "print('Test Score: {:.2f}'.format(ada_reg.score(X_test, y_test)))\n",
    "print('RMSE: {:.4f}'.format(np.sqrt(mean_squared_error(y_test,y_pred))))\n",
    "print('r2_score: {:.4f}'.format(r2_score(y_test,y_pred)))"
   ]
  },
  {
   "cell_type": "markdown",
   "metadata": {},
   "source": [
    "## Gradient Boosting\n",
    "Gradient boosting is a machine learning technique for regression and classification problems, which produces a prediction model in the form of an ensemble of weak prediction models, typically decision trees."
   ]
  },
  {
   "cell_type": "code",
   "execution_count": 68,
   "metadata": {},
   "outputs": [
    {
     "name": "stdout",
     "output_type": "stream",
     "text": [
      "Best parameters: {'learning_rate': 0.1, 'max_depth': 5, 'n_estimators': 200}\n",
      "Best cross-validation score: 0.62\n"
     ]
    }
   ],
   "source": [
    "# grid search for finding the best parameters for gradient boosting\n",
    "from sklearn.model_selection import GridSearchCV\n",
    "from sklearn.ensemble import GradientBoostingRegressor\n",
    "param_grid = {'n_estimators': [50,100,200,500],\n",
    "              'learning_rate': [.01, .05, .1, 1], 'max_depth': np.arange(1, 6)}\n",
    "\n",
    "grid_search = GridSearchCV(GradientBoostingRegressor(random_state = 0), param_grid, cv=5, return_train_score=True)\n",
    "grid_search.fit(X_train, y_train)\n",
    "print(\"Best parameters: {}\".format(grid_search.best_params_))\n",
    "print(\"Best cross-validation score: {:.2f}\".format(grid_search.best_score_))"
   ]
  },
  {
   "cell_type": "code",
   "execution_count": 69,
   "metadata": {},
   "outputs": [
    {
     "name": "stdout",
     "output_type": "stream",
     "text": [
      "Accuracy on training set: 0.667\n",
      "Accuracy on test set: 0.626\n",
      "RMSE: 0.4403\n",
      "r2_score: 0.6260\n"
     ]
    }
   ],
   "source": [
    "# building the model with best parameters\n",
    "\n",
    "gbrt = GradientBoostingRegressor(n_estimators=200, learning_rate=0.1, max_depth = 5, random_state=0)\n",
    "gbrt.fit(X_train, y_train)\n",
    "pred_gbrt = gbrt.predict(X_test)\n",
    "\n",
    "print(\"Accuracy on training set: {:.3f}\".format(gbrt.score(X_train, y_train)))\n",
    "print(\"Accuracy on test set: {:.3f}\".format(gbrt.score(X_test, y_test)))\n",
    "print('RMSE: {:.4f}'.format(np.sqrt(mean_squared_error(y_test,pred_gbrt))))\n",
    "print('r2_score: {:.4f}'.format(r2_score(y_test,pred_gbrt)))"
   ]
  },
  {
   "cell_type": "markdown",
   "metadata": {},
   "source": [
    "## PCA"
   ]
  },
  {
   "cell_type": "code",
   "execution_count": 70,
   "metadata": {},
   "outputs": [],
   "source": [
    "X=data.drop(['log_price'],axis=1)\n",
    "y = pd.DataFrame(data['log_price'])\n",
    "\n",
    "X_train_org, X_test_org, y_train, y_test = train_test_split(X,y,test_size=0.25, random_state = 0)\n",
    "\n",
    "scaler = StandardScaler()\n",
    "X_train = scaler.fit_transform(X_train_org)\n",
    "X_test = scaler.transform(X_test_org)"
   ]
  },
  {
   "cell_type": "code",
   "execution_count": 34,
   "metadata": {},
   "outputs": [],
   "source": [
    "from sklearn.decomposition import PCA\n",
    "import numpy as np\n",
    "\n",
    "# Make an instance of the Model\n",
    "pca = PCA(n_components=0.95)"
   ]
  },
  {
   "cell_type": "code",
   "execution_count": 35,
   "metadata": {},
   "outputs": [],
   "source": [
    "X_train = pca.fit_transform(X_train)\n",
    "X_test = pca.transform(X_test)"
   ]
  },
  {
   "cell_type": "code",
   "execution_count": 36,
   "metadata": {},
   "outputs": [
    {
     "data": {
      "text/plain": [
       "0.9657759064974523"
      ]
     },
     "execution_count": 36,
     "metadata": {},
     "output_type": "execute_result"
    }
   ],
   "source": [
    "np.sum(pca.explained_variance_ratio_)"
   ]
  },
  {
   "cell_type": "code",
   "execution_count": 37,
   "metadata": {},
   "outputs": [
    {
     "data": {
      "text/plain": [
       "21"
      ]
     },
     "execution_count": 37,
     "metadata": {},
     "output_type": "execute_result"
    }
   ],
   "source": [
    "pca.n_components_"
   ]
  },
  {
   "cell_type": "code",
   "execution_count": 38,
   "metadata": {},
   "outputs": [
    {
     "data": {
      "text/plain": [
       "(32375, 21)"
      ]
     },
     "execution_count": 38,
     "metadata": {},
     "output_type": "execute_result"
    }
   ],
   "source": [
    "X_train.shape"
   ]
  },
  {
   "cell_type": "markdown",
   "metadata": {},
   "source": [
    "### We have reduced components to 21 by implementing PCA, which would improve the computational time. "
   ]
  },
  {
   "cell_type": "markdown",
   "metadata": {},
   "source": [
    "## Model 1 - Linear Regression"
   ]
  },
  {
   "cell_type": "code",
   "execution_count": 76,
   "metadata": {},
   "outputs": [
    {
     "name": "stdout",
     "output_type": "stream",
     "text": [
      "Train Score for Linear Regression model : 0.556\n",
      "Test Score for Linear Regression model : 0.547\n",
      "\n",
      "RMSE: 0.4847\n",
      "r2_score: 0.5468\n"
     ]
    }
   ],
   "source": [
    "from sklearn.linear_model import LinearRegression\n",
    "from sklearn.metrics import mean_squared_error, r2_score\n",
    "regressor = LinearRegression()\n",
    "\n",
    "regressor.fit(X_train, y_train)\n",
    "print('Train Score for Linear Regression model : {:.3f}'.format(regressor.score(X_train, y_train)))\n",
    "print('Test Score for Linear Regression model : {:.3f}\\n'.format(regressor.score(X_test, y_test)))\n",
    "\n",
    "pred_linear = regressor.predict(X_test)\n",
    "\n",
    "print('RMSE: {:.4f}'.format(np.sqrt(mean_squared_error(y_test,pred_linear))))\n",
    "print('r2_score: {:.4f}'.format(r2_score(y_test,pred_linear)))"
   ]
  },
  {
   "cell_type": "markdown",
   "metadata": {},
   "source": [
    "### Cross Validation"
   ]
  },
  {
   "cell_type": "code",
   "execution_count": 526,
   "metadata": {},
   "outputs": [
    {
     "name": "stdout",
     "output_type": "stream",
     "text": [
      "Cross-validation scores: [0.5484405  0.55916788 0.55720518 0.56496915 0.54565802]\n",
      "Average cross-validation training score: 0.56\n"
     ]
    }
   ],
   "source": [
    "scores_linear = cross_val_score(regressor, X_train,y_train,cv=5)\n",
    "print(\"Cross-validation scores: {}\".format(scores_linear))\n",
    "print(\"Average cross-validation training score: {:.2f}\".format(scores_linear.mean()))"
   ]
  },
  {
   "cell_type": "code",
   "execution_count": 527,
   "metadata": {},
   "outputs": [
    {
     "name": "stdout",
     "output_type": "stream",
     "text": [
      "Cross-validation scores: [0.51642631 0.56424201 0.53196774 0.54860391 0.56719963]\n",
      "Average cross-validation  test score: 0.55\n"
     ]
    }
   ],
   "source": [
    "scores = cross_val_score(regressor, X_test,y_test,cv=5)\n",
    "print(\"Cross-validation scores: {}\".format(scores))\n",
    "print(\"Average cross-validation  test score: {:.2f}\".format(scores.mean()))"
   ]
  },
  {
   "cell_type": "markdown",
   "metadata": {},
   "source": [
    "### Apply GridSearch on Linear"
   ]
  },
  {
   "cell_type": "code",
   "execution_count": 528,
   "metadata": {},
   "outputs": [
    {
     "name": "stdout",
     "output_type": "stream",
     "text": [
      "{'copy_X': True, 'fit_intercept': True, 'n_jobs': None, 'normalize': False}\n",
      "Fitting 5 folds for each of 8 candidates, totalling 40 fits\n"
     ]
    },
    {
     "name": "stderr",
     "output_type": "stream",
     "text": [
      "[Parallel(n_jobs=-1)]: Using backend LokyBackend with 8 concurrent workers.\n"
     ]
    },
    {
     "name": "stdout",
     "output_type": "stream",
     "text": [
      "{'copy_X': True, 'fit_intercept': True, 'normalize': True}\n"
     ]
    },
    {
     "name": "stderr",
     "output_type": "stream",
     "text": [
      "[Parallel(n_jobs=-1)]: Done  40 out of  40 | elapsed:    9.9s finished\n"
     ]
    }
   ],
   "source": [
    "from pprint import pprint\n",
    "pprint(regressor.get_params())\n",
    "\n",
    "param_grid_linear = {'fit_intercept':[True,False], 'normalize':[True,False], 'copy_X':[True, False]}\n",
    "\n",
    "CrossValidation_linearreg = GridSearchCV(regressor,param_grid_linear ,cv=5, return_train_score=True, verbose = 1, n_jobs = -1)\n",
    "CrossValidation_linearreg.fit(X_train, y_train)\n",
    "\n",
    "best_parameters_lreg=CrossValidation_linearreg.best_params_\n",
    "print(best_parameters_lreg)"
   ]
  },
  {
   "cell_type": "code",
   "execution_count": 529,
   "metadata": {},
   "outputs": [
    {
     "name": "stdout",
     "output_type": "stream",
     "text": [
      "Train score: 55.5848 %\n",
      "Test score: 54.6803 %\n",
      "RMSE: 0.4847\n",
      "r2_score: 0.5468\n"
     ]
    }
   ],
   "source": [
    "regressor =LinearRegression(copy_X = True,fit_intercept = True, normalize= True)\n",
    "\n",
    "regressor.fit(X_train, y_train)\n",
    "\n",
    "y_pred_linear=regressor.predict(X_test)\n",
    "\n",
    "print('Train score: {:.4f} %'.format(regressor.score(X_train, y_train)*100))\n",
    "print('Test score: {:.4f} %'.format(regressor.score(X_test, y_test)*100))\n",
    "\n",
    "print('RMSE: {:.4f}'.format(np.sqrt(mean_squared_error(y_test,y_pred_linear))))\n",
    "print('r2_score: {:.4f}'.format(r2_score(y_test,y_pred_linear)))"
   ]
  },
  {
   "cell_type": "markdown",
   "metadata": {},
   "source": [
    "We observed that for Linear regression train score is 55.58% and test score is 54.68%  with Grid Search cross validation and it is evident that after executing PCA both train and test accuracy has reduced."
   ]
  },
  {
   "cell_type": "markdown",
   "metadata": {},
   "source": [
    "## Model 2 - Polynomial Regression"
   ]
  },
  {
   "cell_type": "code",
   "execution_count": 79,
   "metadata": {},
   "outputs": [
    {
     "name": "stdout",
     "output_type": "stream",
     "text": [
      "[0.5558481245537528, 0.6083631800444771, 0.6417231900597078]\n",
      "[0.5468032301476791, -2.90934140421636e+17, -9.99751249283171e+18]\n",
      "Train score: 55.5848 %\n",
      "Test score: 54.6803 %\n",
      "RMSE: 0.4847\n",
      "R2 score: 0.5468\n"
     ]
    }
   ],
   "source": [
    "from  sklearn.preprocessing  import PolynomialFeatures\n",
    "from sklearn.linear_model import LinearRegression\n",
    "from sklearn.metrics import mean_squared_error, r2_score\n",
    "regressor = LinearRegression()\n",
    "\n",
    "train_score_list = []\n",
    "test_score_list = []\n",
    "\n",
    "for n in range(1,4):\n",
    "    poly = PolynomialFeatures(n)\n",
    "    X_train_reg_poly = poly.fit_transform(X_train)\n",
    "    X_test_reg_poly = poly.transform(X_test)\n",
    "    regressor_poly =LinearRegression()\n",
    "    regressor_poly.fit(X_train_reg_poly, y_train)\n",
    "    train_score_list.append(regressor_poly.score(X_train_reg_poly, y_train))\n",
    "    test_score_list.append(regressor_poly.score(X_test_reg_poly, y_test))\n",
    "    \n",
    "print(train_score_list)\n",
    "print(test_score_list)\n",
    "poly = PolynomialFeatures(1)\n",
    "X_train_poly = poly.fit_transform(X_train)\n",
    "X_test_poly = poly.transform(X_test)\n",
    "regressor_poly.fit(X_train_poly, y_train)\n",
    "\n",
    "pred_poly=regressor_poly.predict(X_test_poly)\n",
    "\n",
    "print('Train score: {:.4f} %'.format(regressor_poly.score(X_train_poly, y_train)*100))\n",
    "print('Test score: {:.4f} %'.format(regressor_poly.score(X_test_poly, y_test)*100))\n",
    "\n",
    "print('RMSE: {:.4f}'.format(np.sqrt(mean_squared_error(y_test,pred_poly))))\n",
    "print('R2 score: {:.4f}'.format(r2_score(y_test,pred_poly)))"
   ]
  },
  {
   "cell_type": "code",
   "execution_count": 80,
   "metadata": {},
   "outputs": [
    {
     "data": {
      "text/plain": [
       "<matplotlib.legend.Legend at 0x257917db208>"
      ]
     },
     "execution_count": 80,
     "metadata": {},
     "output_type": "execute_result"
    },
    {
     "data": {
      "image/png": "[encoded data removed]",
      "text/plain": [
       "<Figure size 432x288 with 1 Axes>"
      ]
     },
     "metadata": {
      "needs_background": "light"
     },
     "output_type": "display_data"
    }
   ],
   "source": [
    "x_axis = range(1,4)\n",
    "plt.plot(x_axis, train_score_list, c = 'g', label = 'Train Score')\n",
    "plt.plot(x_axis, test_score_list, c = 'b', label = 'Test Score')\n",
    "plt.xlabel('degree')\n",
    "plt.ylabel('accuracy')\n",
    "plt.legend()"
   ]
  },
  {
   "cell_type": "code",
   "execution_count": 83,
   "metadata": {},
   "outputs": [
    {
     "name": "stdout",
     "output_type": "stream",
     "text": [
      "Train score: 55.5848 %\n",
      "Test score: 54.6803 %\n",
      "RMSE: 0.4847\n",
      "R2 score: 0.5468\n"
     ]
    }
   ],
   "source": [
    "poly = PolynomialFeatures(1)\n",
    "X_train_poly = poly.fit_transform(X_train)\n",
    "X_test_poly = poly.transform(X_test)\n",
    "regressor_poly.fit(X_train_poly, y_train)\n",
    "\n",
    "pred_poly=regressor_poly.predict(X_test_poly)\n",
    "\n",
    "print('Train score: {:.4f} %'.format(regressor_poly.score(X_train_poly, y_train)*100))\n",
    "print('Test score: {:.4f} %'.format(regressor_poly.score(X_test_poly, y_test)*100))\n",
    "\n",
    "print('RMSE: {:.4f}'.format(np.sqrt(mean_squared_error(y_test,pred_poly))))\n",
    "print('R2 score: {:.4f}'.format(r2_score(y_test,pred_poly)))"
   ]
  },
  {
   "cell_type": "markdown",
   "metadata": {},
   "source": [
    "### Cross validation"
   ]
  },
  {
   "cell_type": "code",
   "execution_count": 533,
   "metadata": {},
   "outputs": [
    {
     "name": "stdout",
     "output_type": "stream",
     "text": [
      "Cross-validation scores: [0.5484405  0.55916788 0.55720518 0.56496915 0.54565802]\n",
      "Average cross-validation  training score: 0.56\n"
     ]
    }
   ],
   "source": [
    "scores = cross_val_score(regressor_poly, X_train,y_train,cv=5)\n",
    "print(\"Cross-validation scores: {}\".format(scores))\n",
    "print(\"Average cross-validation  training score: {:.2f}\".format(scores.mean()))"
   ]
  },
  {
   "cell_type": "code",
   "execution_count": 534,
   "metadata": {},
   "outputs": [
    {
     "name": "stdout",
     "output_type": "stream",
     "text": [
      "Cross-validation scores: [0.51642631 0.56424201 0.53196774 0.54860391 0.56719963]\n",
      "Average cross-validation  test score: 0.55\n"
     ]
    }
   ],
   "source": [
    "scores = cross_val_score(regressor_poly, X_test,y_test,cv=5)\n",
    "print(\"Cross-validation scores: {}\".format(scores))\n",
    "print(\"Average cross-validation  test score: {:.2f}\".format(scores.mean()))"
   ]
  },
  {
   "cell_type": "markdown",
   "metadata": {},
   "source": [
    "### Grid Search on Polynomial"
   ]
  },
  {
   "cell_type": "code",
   "execution_count": 535,
   "metadata": {},
   "outputs": [
    {
     "name": "stdout",
     "output_type": "stream",
     "text": [
      "{'degree': 1, 'include_bias': True, 'interaction_only': False, 'order': 'C'}\n",
      "Fitting 5 folds for each of 8 candidates, totalling 40 fits\n"
     ]
    },
    {
     "name": "stderr",
     "output_type": "stream",
     "text": [
      "[Parallel(n_jobs=-1)]: Using backend LokyBackend with 8 concurrent workers.\n"
     ]
    },
    {
     "name": "stdout",
     "output_type": "stream",
     "text": [
      "{'copy_X': True, 'fit_intercept': True, 'normalize': True}\n"
     ]
    },
    {
     "name": "stderr",
     "output_type": "stream",
     "text": [
      "[Parallel(n_jobs=-1)]: Done  40 out of  40 | elapsed:    0.8s finished\n"
     ]
    }
   ],
   "source": [
    "from pprint import pprint\n",
    "pprint(poly.get_params())\n",
    "\n",
    "#degrees = np.arange(1, 25)\n",
    "param_grid_poly = { 'fit_intercept':[True,False], 'normalize':[True,False], 'copy_X':[True, False] }\n",
    "CrossValidation_poly = GridSearchCV(regressor_poly,cv=5 ,param_grid=param_grid_poly, verbose=1, n_jobs=-1, scoring= None)\n",
    "CrossValidation_poly.fit(X_train, y_train)\n",
    "\n",
    "best_parameters_poly=CrossValidation_poly.best_params_\n",
    "print(best_parameters_poly)"
   ]
  },
  {
   "cell_type": "code",
   "execution_count": 536,
   "metadata": {},
   "outputs": [
    {
     "name": "stdout",
     "output_type": "stream",
     "text": [
      "Train score: 55.5848 %\n",
      "Test score: 54.6803 %\n",
      "RMSE: 0.4847\n",
      "R2 score: 0.5468\n"
     ]
    }
   ],
   "source": [
    "poly = PolynomialFeatures(1)\n",
    "X_train_poly = poly.fit_transform(X_train)\n",
    "X_test_poly = poly.transform(X_test)\n",
    "regressor_poly=LinearRegression(copy_X= True,fit_intercept=True,normalize =True)\n",
    "regressor_poly.fit(X_train_poly, y_train)\n",
    "\n",
    "y_pred_poly=regressor_poly.predict(X_test_poly)\n",
    "\n",
    "print('Train score: {:.4f} %'.format(regressor_poly.score(X_train_poly, y_train)*100))\n",
    "print('Test score: {:.4f} %'.format(regressor_poly.score(X_test_poly, y_test)*100))\n",
    "\n",
    "print('RMSE: {:.4f}'.format(np.sqrt(mean_squared_error(y_test,y_pred_poly))))\n",
    "print('R2 score: {:.4f}'.format(r2_score(y_test,y_pred_poly)))"
   ]
  },
  {
   "cell_type": "markdown",
   "metadata": {},
   "source": [
    "We noticed that for Polynomial regression, train score is 55.58% and test score is 54.68% with Grid Search cross validation and it is evident that after executing PCA both train and test accuracy has reduced."
   ]
  },
  {
   "cell_type": "markdown",
   "metadata": {},
   "source": [
    "## Model 3 - Ridge Regressor"
   ]
  },
  {
   "cell_type": "code",
   "execution_count": 537,
   "metadata": {},
   "outputs": [],
   "source": [
    "from  sklearn.linear_model import Ridge\n",
    "\n",
    "from sklearn.linear_model import LinearRegression\n",
    "from sklearn.metrics import mean_squared_error, r2_score\n",
    "\n",
    "x_range = [0.01, 0.1, 1, 10, 100,1000]\n",
    "train_score_list = []\n",
    "test_score_list = []\n",
    "\n",
    "\n",
    "for alpha in x_range: \n",
    "    ridge = Ridge(alpha)\n",
    "    ridge.fit(X_train,y_train)\n",
    "    train_score_list.append(ridge.score(X_train,y_train))\n",
    "    test_score_list.append(ridge.score(X_test, y_test))"
   ]
  },
  {
   "cell_type": "code",
   "execution_count": 538,
   "metadata": {},
   "outputs": [
    {
     "data": {
      "text/plain": [
       "Text(0.5, 0, 'Hyperparameter:alpha')"
      ]
     },
     "execution_count": 538,
     "metadata": {},
     "output_type": "execute_result"
    },
    {
     "data": {
      "image/png": "[encoded data removed]",
      "text/plain": [
       "<Figure size 720x576 with 1 Axes>"
      ]
     },
     "metadata": {},
     "output_type": "display_data"
    }
   ],
   "source": [
    "%matplotlib inline\n",
    "sns.set(rc={'figure.figsize':(10,8)})\n",
    "\n",
    "plt.plot(x_range, train_score_list, c = 'g', label = 'Train Score')\n",
    "plt.plot(x_range, test_score_list, c = 'b', label = 'Test Score')\n",
    "plt.xscale('log')\n",
    "plt.legend(loc = 3)\n",
    "plt.xlabel('Hyperparameter:alpha')"
   ]
  },
  {
   "cell_type": "code",
   "execution_count": 539,
   "metadata": {},
   "outputs": [
    {
     "name": "stdout",
     "output_type": "stream",
     "text": [
      "[0.5558481245537399, 0.5558481245524588, 0.5558481244243615, 0.5558481116204121, 0.5558468369857931, 0.5557248875873535]\n",
      "[0.546803233655923, 0.5468032652288517, 0.5468035808327423, 0.5468067243381723, 0.5468369121542547, 0.547019912756416]\n"
     ]
    }
   ],
   "source": [
    "print(train_score_list)\n",
    "print(test_score_list)"
   ]
  },
  {
   "cell_type": "code",
   "execution_count": 540,
   "metadata": {},
   "outputs": [
    {
     "name": "stdout",
     "output_type": "stream",
     "text": [
      "Train score on best parameters for Ridge regressor 0.556\n",
      "Test score on best parameters for Ridge regressor 0.547\n",
      "RMSE: 0.4846\n",
      "r2_score: 0.5470\n"
     ]
    }
   ],
   "source": [
    "#It seems like alpha = 100 is the best paramter for Ridge model\n",
    "ridge = Ridge(alpha=1000)\n",
    "ridge.fit(X_train, y_train)\n",
    "pred_ridge=ridge.predict(X_test)\n",
    "print('Train score on best parameters for Ridge regressor {:.3f}'.format(ridge.score(X_train,y_train)))\n",
    "print('Test score on best parameters for Ridge regressor {:.3f}'.format(ridge.score(X_test,y_test)))\n",
    "print('RMSE: {:.4f}'.format(np.sqrt(mean_squared_error(y_test,pred_ridge))))\n",
    "print('r2_score: {:.4f}'.format(r2_score(y_test,pred_ridge)))"
   ]
  },
  {
   "cell_type": "code",
   "execution_count": 541,
   "metadata": {},
   "outputs": [
    {
     "data": {
      "text/plain": [
       "array([[ 2.30927228e-01, -4.70388725e-02,  4.41893400e-02,\n",
       "         6.96264335e-02,  1.15776693e-01, -2.18933843e-02,\n",
       "         7.29608844e-02, -1.19648899e-01,  1.75419387e-02,\n",
       "        -2.65257102e-02,  7.69508510e-02, -2.19397173e-02,\n",
       "         9.96348961e-05,  3.70308157e-03,  1.22142037e-03,\n",
       "        -3.17856505e-02,  2.66071679e-02, -3.10762430e-02,\n",
       "         6.75394399e-02,  6.00774116e-02,  3.91522014e-02]])"
      ]
     },
     "execution_count": 541,
     "metadata": {},
     "output_type": "execute_result"
    }
   ],
   "source": [
    "ridge.coef_"
   ]
  },
  {
   "cell_type": "code",
   "execution_count": 542,
   "metadata": {},
   "outputs": [
    {
     "data": {
      "text/plain": [
       "array([4.77207239])"
      ]
     },
     "execution_count": 542,
     "metadata": {},
     "output_type": "execute_result"
    }
   ],
   "source": [
    "ridge.intercept_"
   ]
  },
  {
   "cell_type": "markdown",
   "metadata": {},
   "source": [
    "### Cross Validation"
   ]
  },
  {
   "cell_type": "code",
   "execution_count": 543,
   "metadata": {},
   "outputs": [
    {
     "name": "stdout",
     "output_type": "stream",
     "text": [
      "Cross-validation scores: [0.54811273 0.55893421 0.55730375 0.56480911 0.54544529]\n",
      "Average cross-validation training score: 0.55\n"
     ]
    }
   ],
   "source": [
    "scores_ridge = cross_val_score(ridge, X_train,y_train,cv=5)\n",
    "print(\"Cross-validation scores: {}\".format(scores_ridge))\n",
    "print(\"Average cross-validation training score: {:.2f}\".format(scores_ridge.mean()))"
   ]
  },
  {
   "cell_type": "code",
   "execution_count": 544,
   "metadata": {},
   "outputs": [
    {
     "name": "stdout",
     "output_type": "stream",
     "text": [
      "Cross-validation scores: [0.5163731  0.56096605 0.5315327  0.54668365 0.56698583]\n",
      "Average cross-validation test score: 0.54\n"
     ]
    }
   ],
   "source": [
    "scores_ridge = cross_val_score(ridge, X_test,y_test,cv=5)\n",
    "print(\"Cross-validation scores: {}\".format(scores_ridge))\n",
    "print(\"Average cross-validation test score: {:.2f}\".format(scores_ridge.mean()))"
   ]
  },
  {
   "cell_type": "markdown",
   "metadata": {},
   "source": [
    "### Applying gridSearch"
   ]
  },
  {
   "cell_type": "code",
   "execution_count": 551,
   "metadata": {},
   "outputs": [
    {
     "name": "stdout",
     "output_type": "stream",
     "text": [
      "{'alpha': 1000,\n",
      " 'copy_X': True,\n",
      " 'fit_intercept': True,\n",
      " 'max_iter': None,\n",
      " 'normalize': False,\n",
      " 'random_state': None,\n",
      " 'solver': 'auto',\n",
      " 'tol': 0.001}\n",
      "Fitting 5 folds for each of 24 candidates, totalling 120 fits\n"
     ]
    },
    {
     "name": "stderr",
     "output_type": "stream",
     "text": [
      "[Parallel(n_jobs=-1)]: Using backend LokyBackend with 8 concurrent workers.\n",
      "[Parallel(n_jobs=-1)]: Done  56 tasks      | elapsed:    0.6s\n"
     ]
    },
    {
     "name": "stdout",
     "output_type": "stream",
     "text": [
      "{'alpha': 100, 'fit_intercept': True, 'normalize': False}\n"
     ]
    },
    {
     "name": "stderr",
     "output_type": "stream",
     "text": [
      "[Parallel(n_jobs=-1)]: Done 105 out of 120 | elapsed:    1.0s remaining:    0.1s\n",
      "[Parallel(n_jobs=-1)]: Done 120 out of 120 | elapsed:    1.1s finished\n"
     ]
    }
   ],
   "source": [
    "from pprint import pprint\n",
    "pprint(ridge.get_params())\n",
    "\n",
    "param_grid_ridge = { 'alpha': [0.01, 0.1, 1, 10, 100, 1000],'fit_intercept': [True,False],'normalize': [True,False]}\n",
    "            \n",
    "CrossValidation_ridge = GridSearchCV(estimator =ridge, cv=5, param_grid = param_grid_ridge , return_train_score=True, verbose = 1, n_jobs = -1)\n",
    "CrossValidation_ridge.fit(X_train, y_train)\n",
    "\n",
    "best_parameters_ridge=CrossValidation_ridge.best_params_\n",
    "print(best_parameters_ridge)"
   ]
  },
  {
   "cell_type": "code",
   "execution_count": 552,
   "metadata": {},
   "outputs": [
    {
     "name": "stdout",
     "output_type": "stream",
     "text": [
      "Train score: 55.5725 %\n",
      "Test score: 54.7020 %\n",
      "RMSE: 0.4846\n",
      "r2_score: 0.5470\n"
     ]
    }
   ],
   "source": [
    "ridge = Ridge(alpha = 1000,fit_intercept= True, normalize= False)\n",
    "ridge.fit(X_train,y_train)\n",
    "\n",
    "y_pred_ridge=ridge.predict(X_test)\n",
    "\n",
    "print('Train score: {:.4f} %'.format(ridge.score(X_train, y_train)*100))\n",
    "print('Test score: {:.4f} %'.format(ridge.score(X_test, y_test)*100))\n",
    "print('RMSE: {:.4f}'.format(np.sqrt(mean_squared_error(y_test,y_pred_ridge))))\n",
    "print('r2_score: {:.4f}'.format(r2_score(y_test,y_pred_ridge)))"
   ]
  },
  {
   "cell_type": "markdown",
   "metadata": {},
   "source": [
    "We observed that for Ridge regression, train score is 55.57% and test score is 54.70% with Grid Search cross validation and it is evident that after executing PCA both train and test accuracy has reduced."
   ]
  },
  {
   "cell_type": "markdown",
   "metadata": {},
   "source": [
    "## Model 4 - Lasso Regressor"
   ]
  },
  {
   "cell_type": "code",
   "execution_count": 553,
   "metadata": {},
   "outputs": [],
   "source": [
    "from  sklearn.linear_model import Lasso\n",
    "\n",
    "x_range = [0.001,0.01, 0.1, 1, 10, 100]\n",
    "train_score_list = []\n",
    "test_score_list = []\n",
    "\n",
    "for alpha in x_range: \n",
    "    lasso = Lasso(alpha)\n",
    "    lasso.fit(X_train,y_train)\n",
    "    train_score_list.append(lasso.score(X_train,y_train))\n",
    "    test_score_list.append(lasso.score(X_test, y_test))"
   ]
  },
  {
   "cell_type": "code",
   "execution_count": 560,
   "metadata": {},
   "outputs": [
    {
     "name": "stdout",
     "output_type": "stream",
     "text": [
      "[0.5558134975975717, 0.5527405546511472, 0.4428248339948766, 0.0, 0.0, 0.0]\n",
      "[0.5468959399600914, 0.5448812117898347, 0.43903911792206374, -0.0005030084282486857, -0.0005030084282486857, -0.0005030084282486857]\n"
     ]
    }
   ],
   "source": [
    "print(train_score_list)\n",
    "print(test_score_list)"
   ]
  },
  {
   "cell_type": "code",
   "execution_count": 561,
   "metadata": {},
   "outputs": [
    {
     "data": {
      "text/plain": [
       "Text(0.5, 0, '$\\\\alpha$')"
      ]
     },
     "execution_count": 561,
     "metadata": {},
     "output_type": "execute_result"
    },
    {
     "data": {
      "image/png": "[encoded data removed]",
      "text/plain": [
       "<Figure size 720x576 with 1 Axes>"
      ]
     },
     "metadata": {},
     "output_type": "display_data"
    }
   ],
   "source": [
    "plt.plot(x_range, train_score_list, c = 'g', label = 'Train Score')\n",
    "plt.plot(x_range, test_score_list, c = 'b', label = 'Test Score')\n",
    "plt.xscale('log')\n",
    "plt.legend(loc = 3)\n",
    "plt.xlabel(r'$\\alpha$')"
   ]
  },
  {
   "cell_type": "code",
   "execution_count": 562,
   "metadata": {},
   "outputs": [
    {
     "name": "stdout",
     "output_type": "stream",
     "text": [
      "Train score on best parameters for Lasso regressor 0.556\n",
      "Test score on best parameters for Lasso regressor 0.547\n",
      "RMSE: 0.4846\n",
      "r2_score: 0.5469\n"
     ]
    }
   ],
   "source": [
    "lasso = Lasso(alpha=0.001)\n",
    "lasso.fit(X_train, y_train)\n",
    "pred_lasso=lasso.predict(X_test)\n",
    "print('Train score on best parameters for Lasso regressor {:.3f}'.format(lasso.score(X_train,y_train)))\n",
    "print('Test score on best parameters for Lasso regressor {:.3f}'.format(lasso.score(X_test,y_test)))\n",
    "print('RMSE: {:.4f}'.format(np.sqrt(mean_squared_error(y_test,pred_lasso))))\n",
    "print('r2_score: {:.4f}'.format(r2_score(y_test,pred_lasso)))"
   ]
  },
  {
   "cell_type": "markdown",
   "metadata": {},
   "source": [
    "### Cross Validation"
   ]
  },
  {
   "cell_type": "code",
   "execution_count": 563,
   "metadata": {},
   "outputs": [
    {
     "name": "stdout",
     "output_type": "stream",
     "text": [
      "Cross-validation scores: [0.54821641 0.55913263 0.55747725 0.56502551 0.54556387]\n",
      "Average cross-validation training score: 0.56\n"
     ]
    }
   ],
   "source": [
    "scores_lasso = cross_val_score(lasso, X_train,y_train,cv=5)\n",
    "print(\"Cross-validation scores: {}\".format(scores_lasso))\n",
    "print(\"Average cross-validation training score: {:.2f}\".format(scores_lasso.mean()))"
   ]
  },
  {
   "cell_type": "code",
   "execution_count": 564,
   "metadata": {},
   "outputs": [
    {
     "name": "stdout",
     "output_type": "stream",
     "text": [
      "Cross-validation scores: [0.51684708 0.56373847 0.53275902 0.54834846 0.567626  ]\n",
      "Average cross-validation test score: 0.55\n"
     ]
    }
   ],
   "source": [
    "scores_lasso = cross_val_score(lasso, X_test,y_test,cv=5)\n",
    "print(\"Cross-validation scores: {}\".format(scores_lasso))\n",
    "print(\"Average cross-validation test score: {:.2f}\".format(scores_lasso.mean()))"
   ]
  },
  {
   "cell_type": "markdown",
   "metadata": {},
   "source": [
    "### Applying Grid"
   ]
  },
  {
   "cell_type": "code",
   "execution_count": 565,
   "metadata": {},
   "outputs": [
    {
     "name": "stdout",
     "output_type": "stream",
     "text": [
      "{'alpha': 0.001,\n",
      " 'copy_X': True,\n",
      " 'fit_intercept': True,\n",
      " 'max_iter': 1000,\n",
      " 'normalize': False,\n",
      " 'positive': False,\n",
      " 'precompute': False,\n",
      " 'random_state': None,\n",
      " 'selection': 'cyclic',\n",
      " 'tol': 0.0001,\n",
      " 'warm_start': False}\n",
      "Fitting 5 folds for each of 24 candidates, totalling 120 fits\n"
     ]
    },
    {
     "name": "stderr",
     "output_type": "stream",
     "text": [
      "[Parallel(n_jobs=-1)]: Using backend LokyBackend with 8 concurrent workers.\n",
      "[Parallel(n_jobs=-1)]: Done  52 tasks      | elapsed:    0.8s\n",
      "[Parallel(n_jobs=-1)]: Done 105 out of 120 | elapsed:    1.6s remaining:    0.1s\n",
      "[Parallel(n_jobs=-1)]: Done 120 out of 120 | elapsed:    1.7s finished\n"
     ]
    },
    {
     "name": "stdout",
     "output_type": "stream",
     "text": [
      "{'alpha': 0.01, 'fit_intercept': True, 'normalize': False}\n"
     ]
    }
   ],
   "source": [
    "from pprint import pprint\n",
    "pprint(lasso.get_params())\n",
    "\n",
    "param_grid_lasso = {'alpha': [0.001, 0.01, 0.1, 1, 10, 100, 1000],'fit_intercept': [True,False], 'normalize': [True,False]}\n",
    "            \n",
    "CrossValidation_lasso = GridSearchCV(estimator =lasso, cv=5, param_grid = param_grid_ridge , return_train_score=True, verbose = 1, n_jobs = -1)\n",
    "CrossValidation_lasso.fit(X_train, y_train)\n",
    "\n",
    "best_parameters_lasso=CrossValidation_lasso.best_params_\n",
    "print(best_parameters_lasso)"
   ]
  },
  {
   "cell_type": "code",
   "execution_count": 566,
   "metadata": {},
   "outputs": [
    {
     "name": "stdout",
     "output_type": "stream",
     "text": [
      "Train score: 55.5813 %\n",
      "Test score: 54.6896 %\n",
      "RMSE: 0.4846\n",
      "r2_score: 0.5469\n"
     ]
    }
   ],
   "source": [
    "lasso = Lasso(alpha = 0.001,fit_intercept = True, normalize = False)\n",
    "lasso.fit(X_train,y_train)\n",
    "\n",
    "y_pred_lasso=lasso.predict(X_test)\n",
    "\n",
    "print('Train score: {:.4f} %'.format(lasso.score(X_train, y_train)*100))\n",
    "print('Test score: {:.4f} %'.format(lasso.score(X_test, y_test)*100))\n",
    "\n",
    "print('RMSE: {:.4f}'.format(np.sqrt(mean_squared_error(y_test,y_pred_lasso))))\n",
    "print('r2_score: {:.4f}'.format(r2_score(y_test,y_pred_lasso)))"
   ]
  },
  {
   "cell_type": "code",
   "execution_count": 567,
   "metadata": {},
   "outputs": [
    {
     "data": {
      "image/png": "[encoded data removed]",
      "text/plain": [
       "<Figure size 432x288 with 1 Axes>"
      ]
     },
     "metadata": {
      "needs_background": "light"
     },
     "output_type": "display_data"
    }
   ],
   "source": [
    "%matplotlib inline\n",
    "\n",
    "x_range1 = np.linspace(0.001, 1, 1000).reshape(-1,1)\n",
    "x_range2 = np.linspace(1, 1000, 1000).reshape(-1,1)\n",
    "\n",
    "x_range = np.append(x_range1, x_range2)\n",
    "coeff = []\n",
    "\n",
    "for alpha in x_range: \n",
    "    lasso = Lasso(alpha)\n",
    "    lasso.fit(X_train,y_train)\n",
    "    coeff.append(lasso.coef_ )\n",
    "    \n",
    "coeff = np.array(coeff)\n",
    "\n",
    "for i in range(0,21):\n",
    "    plt.plot(x_range, coeff[:,i], label = 'feature {:d}'.format(i))\n",
    "\n",
    "plt.axhline(y=0, xmin=0.001, xmax=9999, linewidth=1, c ='gray')\n",
    "plt.xlabel(r'$\\alpha$')\n",
    "plt.xscale('log')\n",
    "plt.legend(loc='upper center', bbox_to_anchor=(0.5, 1.5),\n",
    "          ncol=3, fancybox=True, shadow=True)\n",
    "plt.show()"
   ]
  },
  {
   "cell_type": "markdown",
   "metadata": {},
   "source": [
    "We observed that for Lasso regression, train score is 55.58% and test score is 54.68% with Grid Search cross validation and it is evident that after executing PCA both train and test accuracy has reduced."
   ]
  },
  {
   "cell_type": "markdown",
   "metadata": {},
   "source": [
    "## Model 5 - Decision Tree Regressor"
   ]
  },
  {
   "cell_type": "code",
   "execution_count": 568,
   "metadata": {},
   "outputs": [
    {
     "name": "stdout",
     "output_type": "stream",
     "text": [
      "train_score= 0.5903726318585184\n",
      "test_score= 0.5263268671203796\n",
      "RMSE: 0.4955\n",
      "r2_score: 0.5263\n"
     ]
    }
   ],
   "source": [
    "%matplotlib notebook\n",
    "from sklearn.tree import DecisionTreeRegressor\n",
    "\n",
    "dtree = DecisionTreeRegressor(max_depth=8,random_state=0)\n",
    "dtree.fit(X_train, y_train)\n",
    "pred_dtree = dtree.predict(X_test)\n",
    "\n",
    "train_score=dtree.score(X_train,y_train)\n",
    "test_score=dtree.score(X_test,y_test)\n",
    "print('train_score=',train_score)\n",
    "print('test_score=',test_score)\n",
    "print('RMSE: {:.4f}'.format(np.sqrt(mean_squared_error(y_test,pred_dtree))))\n",
    "print('r2_score: {:.4f}'.format(r2_score(y_test,pred_dtree)))"
   ]
  },
  {
   "cell_type": "markdown",
   "metadata": {},
   "source": [
    "### Decision Tree Regressor With GridSearch cross validation"
   ]
  },
  {
   "cell_type": "code",
   "execution_count": 569,
   "metadata": {},
   "outputs": [
    {
     "name": "stdout",
     "output_type": "stream",
     "text": [
      "Decision Tree parameters:  {'max_depth': 8, 'splitter': 'best'}\n",
      "Best Mean Cross-validation score: 0.53\n",
      "DTree_train_score= 0.5903726318585184\n",
      "Dtree_test_score= 0.5263268671203796\n",
      "RMSE: 0.4955\n",
      "r2_score: 0.5263\n"
     ]
    }
   ],
   "source": [
    "# Train a Decision Tree model, the best parameters, and model performance\n",
    "# find the optimal max_depth\n",
    "\n",
    "dtree = DecisionTreeRegressor(random_state=0)\n",
    "\n",
    "#define a list of parameters\n",
    "param_dtree = {'max_depth': [5,6,7,8,9,10],\n",
    "              'splitter':[\"best\",\"random\"]}\n",
    "\n",
    "#apply grid search\n",
    "grid_dtree = GridSearchCV(dtree, param_dtree, cv=5, return_train_score = True)\n",
    "grid_dtree.fit(X_train, y_train)\n",
    "\n",
    "y_pred_dtree = grid_dtree.predict(X_test)\n",
    "\n",
    "#find best parameters\n",
    "print('Decision Tree parameters: ', grid_dtree.best_params_)\n",
    "\n",
    "# Mean Cross Validation Score\n",
    "print(\"Best Mean Cross-validation score: {:.2f}\".format(grid_dtree.best_score_))\n",
    "\n",
    "train_score=grid_dtree.score(X_train,y_train)\n",
    "test_score=grid_dtree.score(X_test,y_test)\n",
    "\n",
    "# train and test score\n",
    "print('DTree_train_score=',train_score)\n",
    "print('Dtree_test_score=',test_score)\n",
    "print('RMSE: {:.4f}'.format(np.sqrt(mean_squared_error(y_test,y_pred_dtree))))\n",
    "print('r2_score: {:.4f}'.format(r2_score(y_test,y_pred_dtree)))"
   ]
  },
  {
   "cell_type": "code",
   "execution_count": 570,
   "metadata": {},
   "outputs": [
    {
     "name": "stdout",
     "output_type": "stream",
     "text": [
      "[1.22251689e-02 3.26220960e-02 1.87713874e-01 1.40483840e-03\n",
      " 1.29298141e-03 2.09254251e-02 7.36566922e-03 3.06028883e-02\n",
      " 2.62933065e-03 6.14998876e-01 0.00000000e+00 2.37939610e-02\n",
      " 5.97395988e-05 1.57741200e-04 0.00000000e+00 1.08128161e-04\n",
      " 3.94881193e-04 6.41284892e-04 8.64444843e-04 2.60822286e-04\n",
      " 4.11006851e-04 0.00000000e+00 0.00000000e+00 9.73066177e-03\n",
      " 7.03709634e-03 1.71988786e-02 3.93941214e-03 2.36207936e-02]\n"
     ]
    },
    {
     "data": {
      "image/png": "[encoded data removed]",
      "text/plain": [
       "<Figure size 432x288 with 1 Axes>"
      ]
     },
     "metadata": {
      "needs_background": "light"
     },
     "output_type": "display_data"
    }
   ],
   "source": [
    "%matplotlib inline\n",
    "import matplotlib.pyplot as plt\n",
    "\n",
    "model = DecisionTreeRegressor(max_depth=8, random_state=0)\n",
    "model.fit(X,y)\n",
    "print(model.feature_importances_)\n",
    "feat_importances = pd.Series(model.feature_importances_, index=X.columns)\n",
    "feat_importances.nlargest(25).plot(kind='barh')\n",
    "plt.xlabel(\"Feature score\")\n",
    "plt.ylabel(\"Feature Name\")\n",
    "plt.show()"
   ]
  },
  {
   "cell_type": "markdown",
   "metadata": {},
   "source": [
    "We observed that for Decision Tree regression, train score is 59% and test score is 52% with Grid Search cross validation and we can confirm that after executing PCA both train and test accuracy has reduced."
   ]
  },
  {
   "cell_type": "markdown",
   "metadata": {},
   "source": [
    "## Model 6 - Linear Support Vector Machine Regressor"
   ]
  },
  {
   "cell_type": "code",
   "execution_count": 576,
   "metadata": {},
   "outputs": [
    {
     "name": "stdout",
     "output_type": "stream",
     "text": [
      "Train score: 54.9760 %\n",
      "Test score: 54.2135 %\n",
      "RMSE: 0.4872\n",
      "r2_score: 0.5421\n"
     ]
    }
   ],
   "source": [
    "linear_svm = LinearSVR()\n",
    "\n",
    "linear_svm.fit(X_train, y_train)\n",
    "\n",
    "pred_svm=linear_svm.predict(X_test)\n",
    "\n",
    "print('Train score: {:.4f} %'.format(linear_svm.score(X_train, y_train)*100))\n",
    "print('Test score: {:.4f} %'.format(linear_svm.score(X_test, y_test)*100))\n",
    "\n",
    "print('RMSE: {:.4f}'.format(np.sqrt(mean_squared_error(y_test,pred_svm))))\n",
    "print('r2_score: {:.4f}'.format(r2_score(y_test,pred_svm)))"
   ]
  },
  {
   "cell_type": "code",
   "execution_count": 572,
   "metadata": {},
   "outputs": [
    {
     "name": "stdout",
     "output_type": "stream",
     "text": [
      "[0.4131396744170943, 0.4588185494094644, 0.428426071957705, 0.5095021203640191, 0.4462723985463197, 0.3925480272154044, 0.4908158557832455, 0.466193309256525, 0.4508016151366797, 0.46508171080328986]\n",
      "[0.3942534400846992, 0.4494608819619357, 0.40253781840450154, 0.49666275452494746, 0.44724757736473875, 0.33776090503543976, 0.47989018546934625, 0.4509331874927708, 0.44148076792777147, 0.4346110314775441]\n"
     ]
    }
   ],
   "source": [
    "sns.set(rc={'figure.figsize':(15,12)})\n",
    "linear_svm = LinearSVR()\n",
    "\n",
    "linear_svm.fit(X_train, y_train)\n",
    "y_pred=linear_svm.predict(X_test)\n",
    "\n",
    "trainscore_array = []\n",
    "testscore_array = []\n",
    "\n",
    "for n in range(60,70):\n",
    "    linear_svm = LinearSVR(max_iter=n)\n",
    "    linear_svm.fit(X_train, y_train)\n",
    "    trainscore_array.append(linear_svm.score(X_train, y_train))\n",
    "    testscore_array.append(linear_svm.score(X_test, y_test))\n",
    "print(trainscore_array)\n",
    "print(testscore_array)"
   ]
  },
  {
   "cell_type": "code",
   "execution_count": 573,
   "metadata": {},
   "outputs": [
    {
     "data": {
      "text/plain": [
       "Text(0, 0.5, 'Score')"
      ]
     },
     "execution_count": 573,
     "metadata": {},
     "output_type": "execute_result"
    },
    {
     "data": {
      "image/png": "[encoded data removed]",
      "text/plain": [
       "<Figure size 1080x864 with 1 Axes>"
      ]
     },
     "metadata": {},
     "output_type": "display_data"
    }
   ],
   "source": [
    "x_axis = range(60,70)\n",
    "plt.plot(x_axis, trainscore_array, c = 'g', label = 'Train Score')\n",
    "plt.plot(x_axis, testscore_array, c = 'b', label = 'Test Score')\n",
    "plt.legend()\n",
    "plt.xlabel('Max Iterations')\n",
    "plt.ylabel('Score')"
   ]
  },
  {
   "cell_type": "markdown",
   "metadata": {},
   "source": [
    "### Using cross validation for Linear SVM to find average training and test scores"
   ]
  },
  {
   "cell_type": "code",
   "execution_count": 577,
   "metadata": {},
   "outputs": [
    {
     "name": "stdout",
     "output_type": "stream",
     "text": [
      "Cross-validation scores: [0.54137008 0.55358582 0.55231552 0.55784922 0.5404921 ]\n",
      "Average cross-validation training score: 0.55\n"
     ]
    }
   ],
   "source": [
    "scores_SVM = cross_val_score(linear_svm, X_train,y_train,cv=5)\n",
    "print(\"Cross-validation scores: {}\".format(scores_SVM))\n",
    "print(\"Average cross-validation training score: {:.2f}\".format(scores_SVM.mean()))"
   ]
  },
  {
   "cell_type": "code",
   "execution_count": 578,
   "metadata": {},
   "outputs": [
    {
     "name": "stdout",
     "output_type": "stream",
     "text": [
      "Cross-validation scores: [0.50389429 0.55688548 0.53012954 0.53823442 0.56530107]\n",
      "Average cross-validation test score: 0.54\n"
     ]
    }
   ],
   "source": [
    "scores_SVM = cross_val_score(linear_svm, X_test,y_test,cv=5)\n",
    "print(\"Cross-validation scores: {}\".format(scores_SVM))\n",
    "print(\"Average cross-validation test score: {:.2f}\".format(scores_SVM.mean()))"
   ]
  },
  {
   "cell_type": "markdown",
   "metadata": {},
   "source": [
    "For Linear SVR, we observed that train accuracy is 56.59% and 55.78%."
   ]
  },
  {
   "cell_type": "markdown",
   "metadata": {},
   "source": [
    "### Applying Grid Search to Linear SVM"
   ]
  },
  {
   "cell_type": "code",
   "execution_count": 456,
   "metadata": {},
   "outputs": [
    {
     "name": "stdout",
     "output_type": "stream",
     "text": [
      "{'C': 1.0,\n",
      " 'dual': True,\n",
      " 'epsilon': 0.0,\n",
      " 'fit_intercept': True,\n",
      " 'intercept_scaling': 1.0,\n",
      " 'loss': 'epsilon_insensitive',\n",
      " 'max_iter': 69,\n",
      " 'random_state': None,\n",
      " 'tol': 0.0001,\n",
      " 'verbose': 0}\n"
     ]
    }
   ],
   "source": [
    "from pprint import pprint\n",
    "pprint(linear_svm.get_params())"
   ]
  },
  {
   "cell_type": "code",
   "execution_count": 457,
   "metadata": {},
   "outputs": [
    {
     "name": "stdout",
     "output_type": "stream",
     "text": [
      "Fitting 5 folds for each of 10 candidates, totalling 50 fits\n"
     ]
    },
    {
     "name": "stderr",
     "output_type": "stream",
     "text": [
      "[Parallel(n_jobs=-1)]: Using backend LokyBackend with 8 concurrent workers.\n",
      "[Parallel(n_jobs=-1)]: Done  34 tasks      | elapsed:    6.2s\n",
      "[Parallel(n_jobs=-1)]: Done  50 out of  50 | elapsed:    8.1s finished\n"
     ]
    },
    {
     "name": "stdout",
     "output_type": "stream",
     "text": [
      "{'max_iter': 69}\n"
     ]
    }
   ],
   "source": [
    "param_grid_linearsvm = {\n",
    "            'max_iter' : range(60,70),\n",
    "            }\n",
    "\n",
    "CV_linearsvm = GridSearchCV(estimator =linear_svm, param_grid = param_grid_linearsvm , return_train_score=True, verbose = 1, n_jobs = -1)\n",
    "CV_linearsvm.fit(X_train, y_train)\n",
    "\n",
    "best_parameters_linearsvm=CV_linearsvm.best_params_\n",
    "print(best_parameters_linearsvm)"
   ]
  },
  {
   "cell_type": "code",
   "execution_count": 585,
   "metadata": {},
   "outputs": [
    {
     "name": "stdout",
     "output_type": "stream",
     "text": [
      "Train score: 55.1069 %\n",
      "Test score: 54.3157 %\n",
      "RMSE: 0.4866\n",
      "r2_score: 0.5432\n"
     ]
    }
   ],
   "source": [
    "linear_svm = LinearSVR(C=0.1)\n",
    "linear_svm.fit(X_train, y_train)\n",
    "\n",
    "y_pred_svm=linear_svm.predict(X_test)\n",
    "\n",
    "print('Train score: {:.4f} %'.format(linear_svm.score(X_train, y_train)*100))\n",
    "print('Test score: {:.4f} %'.format(linear_svm.score(X_test, y_test)*100))\n",
    "\n",
    "print('RMSE: {:.4f}'.format(np.sqrt(mean_squared_error(y_test,y_pred_svm))))\n",
    "print('r2_score: {:.4f}'.format(r2_score(y_test,y_pred_svm)))"
   ]
  },
  {
   "cell_type": "markdown",
   "metadata": {},
   "source": [
    "We observed that for Linear Support Vector Regression, train score is 55.10% and test score is 54.31% with Grid Search cross validation and it is evident that after executing PCA both train and test accuracy has reduced."
   ]
  },
  {
   "cell_type": "markdown",
   "metadata": {},
   "source": [
    "## Model 6 - KNN Regressor with Grid Search"
   ]
  },
  {
   "cell_type": "code",
   "execution_count": 588,
   "metadata": {},
   "outputs": [],
   "source": [
    "from sklearn.neighbors import KNeighborsRegressor\n",
    "sns.set(rc={'figure.figsize':(15,25)})\n",
    "\n",
    "train_score_array = []\n",
    "test_score_array = []\n",
    "\n",
    "for k in range(15,25):\n",
    "    knn = KNeighborsRegressor(k)\n",
    "    knn.fit(X_train, y_train)\n",
    "    train_score_array.append(knn.score(X_train, y_train))\n",
    "    test_score_array.append(knn.score(X_test, y_test)) "
   ]
  },
  {
   "cell_type": "code",
   "execution_count": 589,
   "metadata": {},
   "outputs": [
    {
     "data": {
      "text/plain": [
       "Text(0, 0.5, 'MSE')"
      ]
     },
     "execution_count": 589,
     "metadata": {},
     "output_type": "execute_result"
    },
    {
     "data": {
      "image/png": "[encoded data removed]",
      "text/plain": [
       "<Figure size 720x1080 with 1 Axes>"
      ]
     },
     "metadata": {},
     "output_type": "display_data"
    }
   ],
   "source": [
    "x_axis = range(15,25)\n",
    "plt.plot(x_axis, train_score_array, c = 'g', label = 'Train Score')\n",
    "plt.plot(x_axis, test_score_array, c = 'b', label = 'Test Score')\n",
    "plt.legend()\n",
    "plt.xlabel('K Value')\n",
    "plt.ylabel('MSE')"
   ]
  },
  {
   "cell_type": "markdown",
   "metadata": {},
   "source": [
    "### Applying grid search with cross validation on KNN"
   ]
  },
  {
   "cell_type": "code",
   "execution_count": 586,
   "metadata": {},
   "outputs": [
    {
     "name": "stdout",
     "output_type": "stream",
     "text": [
      "KNN parameters:  {'n_neighbors': 24}\n",
      "\n",
      "Train score: 0.6129 %\n",
      "Test score: 0.5670 %\n",
      "RMSE: 0.4738\n",
      "r2_score: 0.5670\n"
     ]
    }
   ],
   "source": [
    "from sklearn.neighbors import KNeighborsRegressor\n",
    "\n",
    "knn = KNeighborsRegressor()\n",
    "\n",
    "# define a list of parameters\n",
    "\n",
    "param_knn = {'n_neighbors': range(20,25)}\n",
    "\n",
    "#apply grid search\n",
    "grid_knn = GridSearchCV(knn, param_knn, return_train_score=True)\n",
    "grid_knn.fit(X_train, y_train)\n",
    "y_pred_knn=grid_knn.predict(X_test)\n",
    "\n",
    "#find best parameters\n",
    "print('KNN parameters: ', grid_knn.best_params_)\n",
    "print()\n",
    "\n",
    "print('Train score: {:.4f} %'.format(grid_knn.score(X_train, y_train)))\n",
    "print('Test score: {:.4f} %'.format(grid_knn.score(X_test, y_test)))\n",
    "print('RMSE: {:.4f}'.format(np.sqrt(mean_squared_error(y_test,y_pred_knn))))\n",
    "print('r2_score: {:.4f}'.format(r2_score(y_test,y_pred_knn)))"
   ]
  },
  {
   "cell_type": "code",
   "execution_count": 590,
   "metadata": {},
   "outputs": [
    {
     "name": "stdout",
     "output_type": "stream",
     "text": [
      "Best Mean Cross-validation score: 0.58\n",
      "Train score: 61.2897 %\n",
      "Test score: 56.6992 %\n",
      "RMSE: 0.4738\n",
      "r2_score: 0.5670\n"
     ]
    }
   ],
   "source": [
    "knn = KNeighborsRegressor()\n",
    "\n",
    "# define a list of parameters\n",
    "\n",
    "param_knn = {'n_neighbors': [24]}\n",
    "\n",
    "#apply grid search\n",
    "grid_knn = GridSearchCV(knn, param_knn, cv=5, return_train_score=True)\n",
    "grid_knn.fit(X_train, y_train)\n",
    "\n",
    "pred_knn=grid_knn.predict(X_test)\n",
    "\n",
    "# Mean Cross Validation Score\n",
    "print(\"Best Mean Cross-validation score: {:.2f}\".format(grid_knn.best_score_))\n",
    "\n",
    "print('Train score: {:.4f} %'.format(grid_knn.score(X_train, y_train)*100))\n",
    "print('Test score: {:.4f} %'.format(grid_knn.score(X_test, y_test)*100))\n",
    "\n",
    "print('RMSE: {:.4f}'.format(np.sqrt(mean_squared_error(y_test,pred_knn))))\n",
    "print('r2_score: {:.4f}'.format(r2_score(y_test,pred_knn)))"
   ]
  },
  {
   "cell_type": "markdown",
   "metadata": {},
   "source": [
    "For KNN Regressor, we observed that best neighbours parameter is 24 which is providing highest train and test accuracies and lowest difference.\n",
    "\n",
    "We observed that for KNN Regression, train score is 61.28% and test score is 56.69% with Grid Search cross validation and it is evident that after executing PCA both train and test accuracy has reduced."
   ]
  },
  {
   "cell_type": "markdown",
   "metadata": {},
   "source": [
    "## Model 7 - SVR with Kernel\n",
    "#### The data includes 43167 listings/rows, it is taking too long to run the algorithm. Therefore we are slicing the data to 10000 as we did it in the last project as well and then applying PCA for fair comparison with the last project accuarcy."
   ]
  },
  {
   "cell_type": "code",
   "execution_count": 29,
   "metadata": {},
   "outputs": [],
   "source": [
    "data1 = data[:10000]\n",
    "\n",
    "X=data1.loc[:,data.columns!='log_price']\n",
    "y=data1[['log_price']]\n",
    "\n",
    "X_train_org, X_test_org, y_train, y_test = train_test_split(X, y, test_size=0.25, random_state = 0)\n",
    "\n",
    "scaler = StandardScaler()\n",
    "\n",
    "X_train = scaler.fit_transform(X_train_org)\n",
    "X_test = scaler.transform(X_test_org)"
   ]
  },
  {
   "cell_type": "code",
   "execution_count": 30,
   "metadata": {},
   "outputs": [],
   "source": [
    "from sklearn.decomposition import PCA\n",
    "import numpy as np\n",
    "\n",
    "# Make an instance of the Model\n",
    "pca = PCA(n_components=0.95)"
   ]
  },
  {
   "cell_type": "code",
   "execution_count": 31,
   "metadata": {},
   "outputs": [],
   "source": [
    "X_train = pca.fit_transform(X_train)\n",
    "X_test = pca.transform(X_test)"
   ]
  },
  {
   "cell_type": "code",
   "execution_count": 32,
   "metadata": {},
   "outputs": [
    {
     "data": {
      "text/plain": [
       "0.9631897758874344"
      ]
     },
     "execution_count": 32,
     "metadata": {},
     "output_type": "execute_result"
    }
   ],
   "source": [
    "np.sum(pca.explained_variance_ratio_)"
   ]
  },
  {
   "cell_type": "code",
   "execution_count": 33,
   "metadata": {},
   "outputs": [
    {
     "data": {
      "text/plain": [
       "20"
      ]
     },
     "execution_count": 33,
     "metadata": {},
     "output_type": "execute_result"
    }
   ],
   "source": [
    "pca.n_components_"
   ]
  },
  {
   "cell_type": "markdown",
   "metadata": {},
   "source": [
    "### SVR with Linear Kernel (Grid Search with Cross Validation)"
   ]
  },
  {
   "cell_type": "code",
   "execution_count": 43,
   "metadata": {},
   "outputs": [
    {
     "name": "stdout",
     "output_type": "stream",
     "text": [
      "SVR parameters:  {'C': 10, 'gamma': 0.001, 'kernel': 'linear'}\n",
      "Best Mean Cross-validation score: 0.56\n",
      "Linear_kernel_SVR_train_score= 0.5640144104910948\n",
      "Linear_kernel_SVR test_score= 0.5515411102373446\n"
     ]
    }
   ],
   "source": [
    "from sklearn.svm import SVR\n",
    "svr = SVR()\n",
    "param_grid = {'C': [0.001, 0.01, 0.1, 1, 10],'gamma':[0.001, 0.01, 0.1, 1, 10],'kernel':['linear']}\n",
    "grid_svrkl = GridSearchCV(svr, param_grid,return_train_score=True, cv=5)\n",
    "grid_svrkl.fit(X_train, y_train)\n",
    "pred_svrkl=grid_svrkl.predict(X_test)\n",
    "\n",
    "print('SVR parameters: ', grid_svrkl.best_params_)\n",
    "print(\"Best Mean Cross-validation score: {:.2f}\".format(grid_svrkl.best_score_))\n",
    "train_score=grid_svrkl.score(X_train,y_train)\n",
    "test_score=grid_svrkl.score(X_test,y_test)\n",
    "\n",
    "print('Linear_kernel_SVR_train_score=',train_score)\n",
    "print('Linear_kernel_SVR test_score=',test_score)"
   ]
  },
  {
   "cell_type": "code",
   "execution_count": 44,
   "metadata": {},
   "outputs": [
    {
     "name": "stdout",
     "output_type": "stream",
     "text": [
      "RMSE: 0.4889\n",
      "r2_score: 0.5515\n"
     ]
    }
   ],
   "source": [
    "print('RMSE: {:.4f}'.format(np.sqrt(mean_squared_error(y_test,pred_svrkl))))\n",
    "print('r2_score: {:.4f}'.format(r2_score(y_test,pred_svrkl)))"
   ]
  },
  {
   "cell_type": "markdown",
   "metadata": {},
   "source": [
    "We noticed that for Support Vector with Linear Kernel, train score is 56.40% and test score is 55.15% with Grid Search cross validation and it is evident that after executing PCA both train and test accuracy has reduced."
   ]
  },
  {
   "cell_type": "markdown",
   "metadata": {},
   "source": [
    "### SVR with Rbf Kernel (Grid Search with Cross Validation)"
   ]
  },
  {
   "cell_type": "code",
   "execution_count": 45,
   "metadata": {},
   "outputs": [
    {
     "name": "stdout",
     "output_type": "stream",
     "text": [
      "SVR parameters:  {'C': 10, 'gamma': 0.01, 'kernel': 'rbf'}\n",
      "Best Mean Cross-validation score: 0.59\n",
      "Rbf_kernel_SVR_train_score= 0.6389746985459477\n",
      "Rbf_kernel_SVR test_score= 0.5764174468779459\n"
     ]
    }
   ],
   "source": [
    "from sklearn.svm import SVR\n",
    "svr = SVR()\n",
    "param_grid = {'C': [0.001, 0.01, 0.1, 1, 10],'gamma':[0.001, 0.01, 0.1, 1, 10],'kernel':['rbf']}\n",
    "grid_svrkr = GridSearchCV(svr, param_grid,return_train_score=True, cv=5)\n",
    "grid_svrkr.fit(X_train, y_train)\n",
    "pred_svrkr=grid_svrkr.predict(X_test)\n",
    "\n",
    "print('SVR parameters: ', grid_svrkr.best_params_)\n",
    "print(\"Best Mean Cross-validation score: {:.2f}\".format(grid_svrkr.best_score_))\n",
    "train_score=grid_svrkr.score(X_train,y_train)\n",
    "test_score=grid_svrkr.score(X_test,y_test)\n",
    "\n",
    "print('Rbf_kernel_SVR_train_score=',train_score)\n",
    "print('Rbf_kernel_SVR test_score=',test_score)"
   ]
  },
  {
   "cell_type": "code",
   "execution_count": 46,
   "metadata": {},
   "outputs": [
    {
     "name": "stdout",
     "output_type": "stream",
     "text": [
      "RMSE: 0.4752\n",
      "r2_score: 0.5764\n"
     ]
    }
   ],
   "source": [
    "print('RMSE: {:.4f}'.format(np.sqrt(mean_squared_error(y_test,pred_svrkr))))\n",
    "print('r2_score: {:.4f}'.format(r2_score(y_test,pred_svrkr)))"
   ]
  },
  {
   "cell_type": "markdown",
   "metadata": {},
   "source": [
    "We noticed that for Support Vector with RBF Kernel, train score is 63.89% and test score is 57.64% with Grid Search cross validation and it is evident that after executing PCA the test accuracy has reduced."
   ]
  },
  {
   "cell_type": "markdown",
   "metadata": {},
   "source": [
    "### SVR with Poly Kernel (Grid Search with Cross Validation)"
   ]
  },
  {
   "cell_type": "code",
   "execution_count": 34,
   "metadata": {},
   "outputs": [
    {
     "name": "stdout",
     "output_type": "stream",
     "text": [
      "SVR parameters:  {'C': 0.1, 'kernel': 'poly'}\n",
      "Best Mean Cross-validation score: 0.54\n",
      "Poly_kernel_SVR_train_score= 0.6055278202473744\n",
      "Poly_kernel_SVR test_score= 0.5424997012707989\n"
     ]
    }
   ],
   "source": [
    "from sklearn.svm import SVR\n",
    "svr = SVR()\n",
    "param_grid = {'C': [0.1, 1, 10],'kernel':['poly']}\n",
    "grid_svrkp = GridSearchCV(svr, param_grid,return_train_score=True, cv=3)\n",
    "grid_svrkp.fit(X_train, y_train)\n",
    "pred_svrkp=grid_svrkp.predict(X_test)\n",
    "\n",
    "print('SVR parameters: ', grid_svrkp.best_params_)\n",
    "print(\"Best Mean Cross-validation score: {:.2f}\".format(grid_svrkp.best_score_))\n",
    "train_score=grid_svrkp.score(X_train,y_train)\n",
    "test_score=grid_svrkp.score(X_test,y_test)\n",
    "\n",
    "print('Poly_kernel_SVR_train_score=',train_score)\n",
    "print('Poly_kernel_SVR test_score=',test_score)"
   ]
  },
  {
   "cell_type": "code",
   "execution_count": 35,
   "metadata": {},
   "outputs": [
    {
     "name": "stdout",
     "output_type": "stream",
     "text": [
      "RMSE: 0.4938\n",
      "r2_score: 0.5425\n"
     ]
    }
   ],
   "source": [
    "print('RMSE: {:.4f}'.format(np.sqrt(mean_squared_error(y_test,pred_svrkp))))\n",
    "print('r2_score: {:.4f}'.format(r2_score(y_test,pred_svrkp)))"
   ]
  },
  {
   "cell_type": "markdown",
   "metadata": {},
   "source": [
    "We observed that for Support Vector with Poly Kernel, train score is 60.55% and test score is 54.24% with Grid Search cross validation and it is evident that after executing PCA both train and test accuracy has reduced."
   ]
  },
  {
   "cell_type": "markdown",
   "metadata": {},
   "source": [
    "##  Accuracies of the models after PCA"
   ]
  },
  {
   "cell_type": "code",
   "execution_count": 1,
   "metadata": {},
   "outputs": [],
   "source": [
    "import pandas as pd\n",
    "# Index Levels\n",
    "outside = ['After PCA','After PCA']\n",
    "inside = ['Training Accuracy','Test Accuracy']\n",
    "hier_index = list(zip(outside,inside))\n",
    "hier_index = pd.MultiIndex.from_tuples(hier_index)"
   ]
  },
  {
   "cell_type": "code",
   "execution_count": 2,
   "metadata": {},
   "outputs": [],
   "source": [
    "import numpy as np\n",
    "data_class = np.array([(55.58,55.58,55.57,55.58,59.0,55.10,61.28,56.40,63.89,60.55),\n",
    "                     (54.68,54.68,54.70,54.68,52.0,54.31,56.69,55.15,57.64,54.24)])"
   ]
  },
  {
   "cell_type": "code",
   "execution_count": 3,
   "metadata": {},
   "outputs": [],
   "source": [
    "df = pd.DataFrame(data_class,index=hier_index,columns=['Linear Regression','Polynomial Regression','Ridge regression','Lasso regression','Decision Tree regression','Linear Support Vector Regression','KNN Regression','Support Vector with Linear Kernel','Support Vector with RBF Kernel','Support Vector with Poly Kernel'])"
   ]
  },
  {
   "cell_type": "code",
   "execution_count": 4,
   "metadata": {},
   "outputs": [
    {
     "data": {
      "text/html": [
       "<style  type=\"text/css\" >\n",
       "#T_6c792368_01c1_11eb_930d_809133a54963row0_col0,#T_6c792368_01c1_11eb_930d_809133a54963row0_col1,#T_6c792368_01c1_11eb_930d_809133a54963row0_col2,#T_6c792368_01c1_11eb_930d_809133a54963row0_col3,#T_6c792368_01c1_11eb_930d_809133a54963row0_col4,#T_6c792368_01c1_11eb_930d_809133a54963row0_col5,#T_6c792368_01c1_11eb_930d_809133a54963row0_col6,#T_6c792368_01c1_11eb_930d_809133a54963row0_col7,#T_6c792368_01c1_11eb_930d_809133a54963row0_col8,#T_6c792368_01c1_11eb_930d_809133a54963row0_col9{\n",
       "            background-color:  #004529;\n",
       "            color:  #f1f1f1;\n",
       "        }#T_6c792368_01c1_11eb_930d_809133a54963row1_col0,#T_6c792368_01c1_11eb_930d_809133a54963row1_col1,#T_6c792368_01c1_11eb_930d_809133a54963row1_col2,#T_6c792368_01c1_11eb_930d_809133a54963row1_col3,#T_6c792368_01c1_11eb_930d_809133a54963row1_col4,#T_6c792368_01c1_11eb_930d_809133a54963row1_col5,#T_6c792368_01c1_11eb_930d_809133a54963row1_col6,#T_6c792368_01c1_11eb_930d_809133a54963row1_col7,#T_6c792368_01c1_11eb_930d_809133a54963row1_col8,#T_6c792368_01c1_11eb_930d_809133a54963row1_col9{\n",
       "            background-color:  #ffffe5;\n",
       "            color:  #000000;\n",
       "        }</style><table id=\"T_6c792368_01c1_11eb_930d_809133a54963\" ><thead>    <tr>        <th class=\"blank\" ></th>        <th class=\"blank level0\" ></th>        <th class=\"col_heading level0 col0\" >Linear Regression</th>        <th class=\"col_heading level0 col1\" >Polynomial Regression</th>        <th class=\"col_heading level0 col2\" >Ridge regression</th>        <th class=\"col_heading level0 col3\" >Lasso regression</th>        <th class=\"col_heading level0 col4\" >Decision Tree regression</th>        <th class=\"col_heading level0 col5\" >Linear Support Vector Regression</th>        <th class=\"col_heading level0 col6\" >KNN Regression</th>        <th class=\"col_heading level0 col7\" >Support Vector with Linear Kernel</th>        <th class=\"col_heading level0 col8\" >Support Vector with RBF Kernel</th>        <th class=\"col_heading level0 col9\" >Support Vector with Poly Kernel</th>    </tr></thead><tbody>\n",
       "                <tr>\n",
       "                        <th id=\"T_6c792368_01c1_11eb_930d_809133a54963level0_row0\" class=\"row_heading level0 row0\" rowspan=2>After PCA</th>\n",
       "                        <th id=\"T_6c792368_01c1_11eb_930d_809133a54963level1_row0\" class=\"row_heading level1 row0\" >Training Accuracy</th>\n",
       "                        <td id=\"T_6c792368_01c1_11eb_930d_809133a54963row0_col0\" class=\"data row0 col0\" >55.580000</td>\n",
       "                        <td id=\"T_6c792368_01c1_11eb_930d_809133a54963row0_col1\" class=\"data row0 col1\" >55.580000</td>\n",
       "                        <td id=\"T_6c792368_01c1_11eb_930d_809133a54963row0_col2\" class=\"data row0 col2\" >55.570000</td>\n",
       "                        <td id=\"T_6c792368_01c1_11eb_930d_809133a54963row0_col3\" class=\"data row0 col3\" >55.580000</td>\n",
       "                        <td id=\"T_6c792368_01c1_11eb_930d_809133a54963row0_col4\" class=\"data row0 col4\" >59.000000</td>\n",
       "                        <td id=\"T_6c792368_01c1_11eb_930d_809133a54963row0_col5\" class=\"data row0 col5\" >55.100000</td>\n",
       "                        <td id=\"T_6c792368_01c1_11eb_930d_809133a54963row0_col6\" class=\"data row0 col6\" >61.280000</td>\n",
       "                        <td id=\"T_6c792368_01c1_11eb_930d_809133a54963row0_col7\" class=\"data row0 col7\" >56.400000</td>\n",
       "                        <td id=\"T_6c792368_01c1_11eb_930d_809133a54963row0_col8\" class=\"data row0 col8\" >63.890000</td>\n",
       "                        <td id=\"T_6c792368_01c1_11eb_930d_809133a54963row0_col9\" class=\"data row0 col9\" >60.550000</td>\n",
       "            </tr>\n",
       "            <tr>\n",
       "                                <th id=\"T_6c792368_01c1_11eb_930d_809133a54963level1_row1\" class=\"row_heading level1 row1\" >Test Accuracy</th>\n",
       "                        <td id=\"T_6c792368_01c1_11eb_930d_809133a54963row1_col0\" class=\"data row1 col0\" >54.680000</td>\n",
       "                        <td id=\"T_6c792368_01c1_11eb_930d_809133a54963row1_col1\" class=\"data row1 col1\" >54.680000</td>\n",
       "                        <td id=\"T_6c792368_01c1_11eb_930d_809133a54963row1_col2\" class=\"data row1 col2\" >54.700000</td>\n",
       "                        <td id=\"T_6c792368_01c1_11eb_930d_809133a54963row1_col3\" class=\"data row1 col3\" >54.680000</td>\n",
       "                        <td id=\"T_6c792368_01c1_11eb_930d_809133a54963row1_col4\" class=\"data row1 col4\" >52.000000</td>\n",
       "                        <td id=\"T_6c792368_01c1_11eb_930d_809133a54963row1_col5\" class=\"data row1 col5\" >54.310000</td>\n",
       "                        <td id=\"T_6c792368_01c1_11eb_930d_809133a54963row1_col6\" class=\"data row1 col6\" >56.690000</td>\n",
       "                        <td id=\"T_6c792368_01c1_11eb_930d_809133a54963row1_col7\" class=\"data row1 col7\" >55.150000</td>\n",
       "                        <td id=\"T_6c792368_01c1_11eb_930d_809133a54963row1_col8\" class=\"data row1 col8\" >57.640000</td>\n",
       "                        <td id=\"T_6c792368_01c1_11eb_930d_809133a54963row1_col9\" class=\"data row1 col9\" >54.240000</td>\n",
       "            </tr>\n",
       "    </tbody></table>"
      ],
      "text/plain": [
       "<pandas.io.formats.style.Styler at 0x2559e195a88>"
      ]
     },
     "execution_count": 4,
     "metadata": {},
     "output_type": "execute_result"
    }
   ],
   "source": [
    "import seaborn as sns\n",
    "cm = sns.light_palette(\"#3498db\", as_cmap=True)\n",
    "s = df.style.background_gradient(cmap='YlGn')\n",
    "s"
   ]
  },
  {
   "cell_type": "markdown",
   "metadata": {},
   "source": [
    "## Conclusion: "
   ]
  },
  {
   "cell_type": "markdown",
   "metadata": {},
   "source": [
    "### Hence we conclude that, our best regression model is KNN regressor\n",
    "(Please note that I did not consider Kernalised SVR models for the best regression models because we sliced the data to 10,000 rows in order to increase the execution time.)"
   ]
  }
 ],
 "metadata": {
  "kernelspec": {
   "display_name": "Python 3",
   "language": "python",
   "name": "python3"
  },
  "language_info": {
   "codemirror_mode": {
    "name": "ipython",
    "version": 3
   },
   "file_extension": ".py",
   "mimetype": "text/x-python",
   "name": "python",
   "nbconvert_exporter": "python",
   "pygments_lexer": "ipython3",
   "version": "3.7.9"
  }
 },
 "nbformat": 4,
 "nbformat_minor": 4
}
